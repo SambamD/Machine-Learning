{
  "nbformat": 4,
  "nbformat_minor": 0,
  "metadata": {
    "kernelspec": {
      "display_name": "Python 3",
      "language": "python",
      "name": "python3"
    },
    "language_info": {
      "codemirror_mode": {
        "name": "ipython",
        "version": 3
      },
      "file_extension": ".py",
      "mimetype": "text/x-python",
      "name": "python",
      "nbconvert_exporter": "python",
      "pygments_lexer": "ipython3",
      "version": "3.8.5"
    },
    "colab": {
      "name": "Devoir Modélisation Stochastique 2.ipynb",
      "provenance": [],
      "collapsed_sections": [],
      "include_colab_link": true
    }
  },
  "cells": [
    {
      "cell_type": "markdown",
      "metadata": {
        "id": "view-in-github",
        "colab_type": "text"
      },
      "source": [
        "<a href=\"https://colab.research.google.com/github/SambamD/Machine-Learning/blob/main/Devoir_Mod%C3%A9lisation_Stochastique_2.ipynb\" target=\"_parent\"><img src=\"https://colab.research.google.com/assets/colab-badge.svg\" alt=\"Open In Colab\"/></a>"
      ]
    },
    {
      "cell_type": "markdown",
      "metadata": {
        "id": "17cxcHu12mqW"
      },
      "source": [
        "# Devoir Modélisation Stochastique\n"
      ]
    },
    {
      "cell_type": "code",
      "metadata": {
        "id": "qzPVOoPI2tWO"
      },
      "source": [
        "!pip install fitter"
      ],
      "execution_count": null,
      "outputs": []
    },
    {
      "cell_type": "code",
      "metadata": {
        "id": "2FQJQFjf3wIk",
        "colab": {
          "base_uri": "https://localhost:8080/"
        },
        "outputId": "c0907d81-e974-409f-c675-9113952b7ed4"
      },
      "source": [
        "!unzip data.zip"
      ],
      "execution_count": null,
      "outputs": [
        {
          "output_type": "stream",
          "text": [
            "Archive:  data.zip\n",
            "replace data/.DS_Store? [y]es, [n]o, [A]ll, [N]one, [r]ename: N\n"
          ],
          "name": "stdout"
        }
      ]
    },
    {
      "cell_type": "markdown",
      "metadata": {
        "id": "cTxQwniA4JeI"
      },
      "source": [
        "Nous allons importer les librairies dont nous aurons besoin pour le projet."
      ]
    },
    {
      "cell_type": "code",
      "metadata": {
        "id": "FhelJYHV2mqd"
      },
      "source": [
        "import pandas as pd\n",
        "import numpy as np\n",
        "import seaborn as sns\n",
        "import matplotlib.pyplot as plt\n",
        "from datetime import datetime as dt\n",
        "from fitter import Fitter\n",
        "from utils import *"
      ],
      "execution_count": null,
      "outputs": []
    },
    {
      "cell_type": "markdown",
      "metadata": {
        "id": "gQ37MDuK4T9W"
      },
      "source": [
        "Grâce à cette fonction utilitaire, nous allons pouvoir afficher les appels par jours, par mois, par heure, et par jour de la semaine."
      ]
    },
    {
      "cell_type": "code",
      "metadata": {
        "id": "bZ9Tr_MR2mqe"
      },
      "source": [
        "def plot_number_of_call(data, column:str=\"day\", day_value=None):\n",
        "    plt.plot(month[[column]].value_counts(sort=False).values)\n",
        "    plt.xlabel(column.capitalize())\n",
        "    plt.ylabel(\"Nombre d'appels\")\n",
        "    plt.suptitle(f\"Number of call per {column} for {month_name}\")"
      ],
      "execution_count": null,
      "outputs": []
    },
    {
      "cell_type": "markdown",
      "metadata": {
        "id": "ywGLqASV2mqe"
      },
      "source": [
        "# 0. Prétraitement et visualisation"
      ]
    },
    {
      "cell_type": "markdown",
      "metadata": {
        "id": "hLBLezok4vGC"
      },
      "source": [
        "Dans notre exemple nous allons utiliser un seul mois. Pour cette étude prenons par exemple le mois de janvier."
      ]
    },
    {
      "cell_type": "code",
      "metadata": {
        "id": "F46MVCkS2mqe"
      },
      "source": [
        "month_name = \"January\"\n",
        "root_dir = \"data/\""
      ],
      "execution_count": null,
      "outputs": []
    },
    {
      "cell_type": "code",
      "metadata": {
        "id": "DPcLi3pu2mqf"
      },
      "source": [
        "month = pd.read_csv(f\"{root_dir}{month_name}1999.txt\", delim_whitespace=True) "
      ],
      "execution_count": null,
      "outputs": []
    },
    {
      "cell_type": "code",
      "metadata": {
        "id": "UeQQvWAE2mqf"
      },
      "source": [
        "# columns = [\n",
        "#     'call_id',\n",
        "#     'priority', \n",
        "#     'date',\n",
        "#     'type', \n",
        "#     'vru_entry',\n",
        "#     'q_time',\n",
        "#     'outcome',\n",
        "#     'ser_time', \n",
        "#     'server' \n",
        "# ]\n",
        "# month = month[columns]"
      ],
      "execution_count": null,
      "outputs": []
    },
    {
      "cell_type": "markdown",
      "metadata": {
        "id": "UBX4-jWY5WVO"
      },
      "source": [
        "Pour des raisons de convenance, nous allons créer de nouvelles colonnes pour le jour de la semaine le jour du mois est l'heure d'entrée dans la file de chaque client"
      ]
    },
    {
      "cell_type": "code",
      "metadata": {
        "id": "neAIfKgi2mqf"
      },
      "source": [
        "month['month'] = month['date'].apply(lambda date_int: int2Date(date_int).month)\n",
        "month['weekday'] = month['date'].apply(lambda date_int: int2Date(date_int).weekday())\n",
        "month['day'] = month['date'].apply(lambda date_int: int2Date(date_int).day)\n",
        "month['entry_hour'] = month['vru_entry'].apply(lambda time_str: parse_times(time_str).hour)"
      ],
      "execution_count": null,
      "outputs": []
    },
    {
      "cell_type": "markdown",
      "metadata": {
        "id": "EGQlJeUG5rhk"
      },
      "source": [
        "Supprimons les colonnes dont nous n'aurons pas besoin dans l'étude."
      ]
    },
    {
      "cell_type": "code",
      "metadata": {
        "id": "094rx3q32mqg",
        "colab": {
          "base_uri": "https://localhost:8080/",
          "height": 222
        },
        "outputId": "0fa1a827-1940-4d18-c1b4-11bd78361aa3"
      },
      "source": [
        "month.drop(columns=[\"vru+line\", \"customer_id\"], inplace=True)\n",
        "month.head()"
      ],
      "execution_count": null,
      "outputs": [
        {
          "output_type": "execute_result",
          "data": {
            "text/html": [
              "<div>\n",
              "<style scoped>\n",
              "    .dataframe tbody tr th:only-of-type {\n",
              "        vertical-align: middle;\n",
              "    }\n",
              "\n",
              "    .dataframe tbody tr th {\n",
              "        vertical-align: top;\n",
              "    }\n",
              "\n",
              "    .dataframe thead th {\n",
              "        text-align: right;\n",
              "    }\n",
              "</style>\n",
              "<table border=\"1\" class=\"dataframe\">\n",
              "  <thead>\n",
              "    <tr style=\"text-align: right;\">\n",
              "      <th></th>\n",
              "      <th>call_id</th>\n",
              "      <th>priority</th>\n",
              "      <th>type</th>\n",
              "      <th>date</th>\n",
              "      <th>vru_entry</th>\n",
              "      <th>vru_exit</th>\n",
              "      <th>vru_time</th>\n",
              "      <th>q_start</th>\n",
              "      <th>q_exit</th>\n",
              "      <th>q_time</th>\n",
              "      <th>outcome</th>\n",
              "      <th>ser_start</th>\n",
              "      <th>ser_exit</th>\n",
              "      <th>ser_time</th>\n",
              "      <th>server</th>\n",
              "      <th>month</th>\n",
              "      <th>weekday</th>\n",
              "      <th>day</th>\n",
              "      <th>entry_hour</th>\n",
              "    </tr>\n",
              "  </thead>\n",
              "  <tbody>\n",
              "    <tr>\n",
              "      <th>0</th>\n",
              "      <td>33116</td>\n",
              "      <td>2</td>\n",
              "      <td>PS</td>\n",
              "      <td>990101</td>\n",
              "      <td>0:00:31</td>\n",
              "      <td>0:00:36</td>\n",
              "      <td>5</td>\n",
              "      <td>0:00:36</td>\n",
              "      <td>0:03:09</td>\n",
              "      <td>153</td>\n",
              "      <td>HANG</td>\n",
              "      <td>0:00:00</td>\n",
              "      <td>0:00:00</td>\n",
              "      <td>0</td>\n",
              "      <td>NO_SERVER</td>\n",
              "      <td>1</td>\n",
              "      <td>4</td>\n",
              "      <td>1</td>\n",
              "      <td>0</td>\n",
              "    </tr>\n",
              "    <tr>\n",
              "      <th>1</th>\n",
              "      <td>33117</td>\n",
              "      <td>0</td>\n",
              "      <td>PS</td>\n",
              "      <td>990101</td>\n",
              "      <td>0:34:12</td>\n",
              "      <td>0:34:23</td>\n",
              "      <td>11</td>\n",
              "      <td>0:00:00</td>\n",
              "      <td>0:00:00</td>\n",
              "      <td>0</td>\n",
              "      <td>HANG</td>\n",
              "      <td>0:00:00</td>\n",
              "      <td>0:00:00</td>\n",
              "      <td>0</td>\n",
              "      <td>NO_SERVER</td>\n",
              "      <td>1</td>\n",
              "      <td>4</td>\n",
              "      <td>1</td>\n",
              "      <td>0</td>\n",
              "    </tr>\n",
              "    <tr>\n",
              "      <th>2</th>\n",
              "      <td>33118</td>\n",
              "      <td>2</td>\n",
              "      <td>PS</td>\n",
              "      <td>990101</td>\n",
              "      <td>6:55:20</td>\n",
              "      <td>6:55:26</td>\n",
              "      <td>6</td>\n",
              "      <td>6:55:26</td>\n",
              "      <td>6:55:43</td>\n",
              "      <td>17</td>\n",
              "      <td>AGENT</td>\n",
              "      <td>6:55:43</td>\n",
              "      <td>6:56:37</td>\n",
              "      <td>54</td>\n",
              "      <td>MICHAL</td>\n",
              "      <td>1</td>\n",
              "      <td>4</td>\n",
              "      <td>1</td>\n",
              "      <td>6</td>\n",
              "    </tr>\n",
              "    <tr>\n",
              "      <th>3</th>\n",
              "      <td>33119</td>\n",
              "      <td>0</td>\n",
              "      <td>PS</td>\n",
              "      <td>990101</td>\n",
              "      <td>7:41:16</td>\n",
              "      <td>7:41:26</td>\n",
              "      <td>10</td>\n",
              "      <td>0:00:00</td>\n",
              "      <td>0:00:00</td>\n",
              "      <td>0</td>\n",
              "      <td>AGENT</td>\n",
              "      <td>7:41:25</td>\n",
              "      <td>7:44:53</td>\n",
              "      <td>208</td>\n",
              "      <td>BASCH</td>\n",
              "      <td>1</td>\n",
              "      <td>4</td>\n",
              "      <td>1</td>\n",
              "      <td>7</td>\n",
              "    </tr>\n",
              "    <tr>\n",
              "      <th>4</th>\n",
              "      <td>33120</td>\n",
              "      <td>0</td>\n",
              "      <td>PS</td>\n",
              "      <td>990101</td>\n",
              "      <td>8:03:14</td>\n",
              "      <td>8:03:24</td>\n",
              "      <td>10</td>\n",
              "      <td>0:00:00</td>\n",
              "      <td>0:00:00</td>\n",
              "      <td>0</td>\n",
              "      <td>AGENT</td>\n",
              "      <td>8:03:23</td>\n",
              "      <td>8:05:10</td>\n",
              "      <td>107</td>\n",
              "      <td>MICHAL</td>\n",
              "      <td>1</td>\n",
              "      <td>4</td>\n",
              "      <td>1</td>\n",
              "      <td>8</td>\n",
              "    </tr>\n",
              "  </tbody>\n",
              "</table>\n",
              "</div>"
            ],
            "text/plain": [
              "   call_id  priority type    date  ... month weekday  day entry_hour\n",
              "0    33116         2   PS  990101  ...     1       4    1          0\n",
              "1    33117         0   PS  990101  ...     1       4    1          0\n",
              "2    33118         2   PS  990101  ...     1       4    1          6\n",
              "3    33119         0   PS  990101  ...     1       4    1          7\n",
              "4    33120         0   PS  990101  ...     1       4    1          8\n",
              "\n",
              "[5 rows x 19 columns]"
            ]
          },
          "metadata": {
            "tags": []
          },
          "execution_count": 17
        }
      ]
    },
    {
      "cell_type": "markdown",
      "metadata": {
        "id": "0q1tFPFw5yx8"
      },
      "source": [
        "Sachant que les appels \"PHANTOM\" n'ont aucune valeur ajoutée dans les données, nous allons les supprimer pour faciliter l'analyse. Ceci contribuera à l'amélioration des performances des modèles de prédiction des distributions."
      ]
    },
    {
      "cell_type": "code",
      "metadata": {
        "id": "u2413jKH2mqh"
      },
      "source": [
        "month = month[month['outcome'] != \"PHANTOM\"]"
      ],
      "execution_count": null,
      "outputs": []
    },
    {
      "cell_type": "markdown",
      "metadata": {
        "id": "fVzGA13m6CLf"
      },
      "source": [
        "Dans cette courbe, nous affichons le nombre d'appels par jour de la semaine pour le mois de janvier. On remarque la présence de pics pour principalement les lundi et une diminution de pendant le samedi. Il y a aussi une forte hausse du nombre d'appel durant les  les dimanches."
      ]
    },
    {
      "cell_type": "code",
      "metadata": {
        "id": "qreEQ6Jn2mqh",
        "colab": {
          "base_uri": "https://localhost:8080/",
          "height": 308
        },
        "outputId": "9f6bd970-5166-468d-b595-5675c4aa882a"
      },
      "source": [
        "plot_number_of_call(month, \"weekday\")"
      ],
      "execution_count": null,
      "outputs": [
        {
          "output_type": "display_data",
          "data": {
            "image/png": "[encoded data removed]",
            "text/plain": [
              "<Figure size 432x288 with 1 Axes>"
            ]
          },
          "metadata": {
            "tags": [],
            "needs_background": "light"
          }
        }
      ]
    },
    {
      "cell_type": "markdown",
      "metadata": {
        "id": "aUa4Z1qt7YhY"
      },
      "source": [
        "Nous remarquons une grande différence des tendances des appels en début de mois comparée aux appels en fin de mois.En début de mois, entre le 1er et le 5e jour il y a une augmentation radicale des appels et nous remarquons des diminutions fortes pratiquement tous les 14 jours ce qui montre que ce sont des pics vers le bas induits par la présence des weekends."
      ]
    },
    {
      "cell_type": "code",
      "metadata": {
        "scrolled": true,
        "id": "9OXWr0wo2mqh",
        "colab": {
          "base_uri": "https://localhost:8080/",
          "height": 308
        },
        "outputId": "7cd483e0-86a8-42a5-b0d8-1dad1bd82cdb"
      },
      "source": [
        "plot_number_of_call(month, \"day\")"
      ],
      "execution_count": null,
      "outputs": [
        {
          "output_type": "display_data",
          "data": {
            "image/png": "[encoded data removed]",
            "text/plain": [
              "<Figure size 432x288 with 1 Axes>"
            ]
          },
          "metadata": {
            "tags": [],
            "needs_background": "light"
          }
        }
      ]
    },
    {
      "cell_type": "markdown",
      "metadata": {
        "id": "g-ljdMSK8Bm_"
      },
      "source": [
        ""
      ]
    },
    {
      "cell_type": "markdown",
      "metadata": {
        "id": "1Lah63VY8iM5"
      },
      "source": [
        "Il peut être aussi très intéressant de regarder la tendance des appels par rapport à l'heure d'arrivée (c'est-à-dire l'heure d'entrer dans le VRU). On remarque dès le départ que malgré qu'il n'y ait pas d'appel permis avant 8h et après 20h, il y a quand même des appels mais à un nombre très réduit. Le pic d'appels se passe à partir du matin entre 8h et 10h principalement à 9h et à 17h ce sont les principales où nous remarquons des d'appel pour le mois de janvier.\n"
      ]
    },
    {
      "cell_type": "code",
      "metadata": {
        "id": "snMqFyuJ2mqi",
        "colab": {
          "base_uri": "https://localhost:8080/",
          "height": 309
        },
        "outputId": "8c826f42-f8b7-4093-f873-774439205317"
      },
      "source": [
        "plot_number_of_call(month, \"entry_hour\")"
      ],
      "execution_count": null,
      "outputs": [
        {
          "output_type": "display_data",
          "data": {
            "image/png": "[encoded data removed]",
            "text/plain": [
              "<Figure size 432x288 with 1 Axes>"
            ]
          },
          "metadata": {
            "tags": [],
            "needs_background": "light"
          }
        }
      ]
    },
    {
      "cell_type": "code",
      "metadata": {
        "scrolled": false,
        "id": "TVlVcD-r2mqi",
        "colab": {
          "base_uri": "https://localhost:8080/",
          "height": 513
        },
        "outputId": "be7a2d4c-6b94-4a4a-e8bb-8fa56ea7d431"
      },
      "source": [
        "plt.figure(figsize=[8, 8])\n",
        "for day_of_the_week in range(7):\n",
        "    days = month[month[\"weekday\"] == day_of_the_week]\n",
        "    number_of_days = days.shape[0]\n",
        "    data = days[['entry_hour', 'call_id']].groupby('entry_hour', as_index=False).count()\n",
        "    sns.lineplot(x=\"entry_hour\", y=\"call_id\", data=data)\n",
        "    plt.xticks(range(0, 24, 2))\n",
        "    plt.legend([\"Lundi\", \"Mardi\", \"Mercredi\", \"Jeudi\", \"Vendredi\", \"Samedi\", \"Dimanche\"])\n",
        "    plt.title(\"Number if calls per hour for each weekday\")\n",
        "    plt.xlabel(\"Hours\")\n",
        "    plt.ylabel(\"Number of calls\")\n",
        "plt.show()"
      ],
      "execution_count": null,
      "outputs": [
        {
          "output_type": "display_data",
          "data": {
            "image/png": "[encoded data removed]",
            "text/plain": [
              "<Figure size 576x576 with 1 Axes>"
            ]
          },
          "metadata": {
            "tags": [],
            "needs_background": "light"
          }
        }
      ]
    },
    {
      "cell_type": "code",
      "metadata": {
        "scrolled": true,
        "id": "g8Tk1YGB2mqi",
        "colab": {
          "base_uri": "https://localhost:8080/",
          "height": 280
        },
        "outputId": "6d1814f7-37ee-4a6c-f8ab-b41695498a20"
      },
      "source": [
        "for weekday in range(7):\n",
        "    sns.kdeplot(month['entry_hour'][month['weekday']==weekday],)"
      ],
      "execution_count": null,
      "outputs": [
        {
          "output_type": "display_data",
          "data": {
            "image/png": "[encoded data removed]",
            "text/plain": [
              "<Figure size 432x288 with 1 Axes>"
            ]
          },
          "metadata": {
            "tags": [],
            "needs_background": "light"
          }
        }
      ]
    },
    {
      "cell_type": "code",
      "metadata": {
        "scrolled": true,
        "id": "fP1ts-_Z2mqj",
        "colab": {
          "base_uri": "https://localhost:8080/",
          "height": 123
        },
        "outputId": "dfe66f80-0b24-4a2a-c207-9f36a7844d72"
      },
      "source": [
        "g = sns.FacetGrid(month, col=\"weekday\", height=5)\n",
        "g.map(sns.kdeplot, \"entry_hour\")"
      ],
      "execution_count": null,
      "outputs": [
        {
          "output_type": "execute_result",
          "data": {
            "text/plain": [
              "<seaborn.axisgrid.FacetGrid at 0x7f446b6ee048>"
            ]
          },
          "metadata": {
            "tags": []
          },
          "execution_count": 24
        },
        {
          "output_type": "display_data",
          "data": {
            "image/png": "[encoded data removed]",
            "text/plain": [
              "<Figure size 2520x360 with 7 Axes>"
            ]
          },
          "metadata": {
            "tags": [],
            "needs_background": "light"
          }
        }
      ]
    },
    {
      "cell_type": "code",
      "metadata": {
        "id": "c7vK2U5e2mqj"
      },
      "source": [
        "def plot_number_of_call_for_weekday(weekday, month, index=None):\n",
        "    days_of_month = month[['entry_hour', 'call_id', 'day']][month['weekday'] == weekday]\n",
        "    days = days_of_month.day.unique()\n",
        "    for day in days:\n",
        "        data = days_of_month[days_of_month['day'] == day].groupby('entry_hour').count()\n",
        "        sns.lineplot(x=\"entry_hour\", y=\"call_id\", data=data,)\n",
        "        plt.xticks(range(0, 24, 2))\n",
        "        plt.title(f\"Number of calls of day {weekday}\")\n",
        "        plt.xlabel(\"Hours\")\n",
        "        plt.ylabel(\"Number of calls\")"
      ],
      "execution_count": null,
      "outputs": []
    },
    {
      "cell_type": "markdown",
      "metadata": {
        "id": "WgxxlQspD7Eq"
      },
      "source": [
        "On remarque clairement une différence entre le dimanche et les autres jours de la semaine. Nous remarquons aussi que le lundi se décale un peu par rapport aux autres jours de la semaine. Mais les pics arrivent toujours entre 14h et 18h et le matin entre 8h et 10h. On peut dire que globalement les courbes des jours de la semaine, bien qu'ayant de légères différences au niveau des valeurs des maxima et des minima, ont une tendance régulière et quasi similaire: une diminution des appelsdurant les heures creuses (entre 12h et 15h) et deux pics durant les heures de pointe (les courbes ont globalement la même forme). C'est-à-dire que les courbes ont globalement la même tendance et que certains jours peuvent être regroupés. Toutefois, dans notre étude, pour plus de précisions, nous allons séparer chaque distribution de chaque jour"
      ]
    },
    {
      "cell_type": "code",
      "metadata": {
        "scrolled": false,
        "id": "4PNQUTBe2mqj",
        "colab": {
          "base_uri": "https://localhost:8080/",
          "height": 633
        },
        "outputId": "4ddea08a-a77e-4e5c-d018-490d577b3479"
      },
      "source": [
        "plt.figure(figsize=[25, 25])\n",
        "for weekday in range(7):\n",
        "    plt.subplot(3, 3, weekday+1)\n",
        "    plot_number_of_call_for_weekday(weekday, month, weekday)"
      ],
      "execution_count": null,
      "outputs": [
        {
          "output_type": "display_data",
          "data": {
            "image/png": "[encoded data removed]",
            "text/plain": [
              "<Figure size 1800x1800 with 7 Axes>"
            ]
          },
          "metadata": {
            "tags": [],
            "needs_background": "light"
          }
        }
      ]
    },
    {
      "cell_type": "markdown",
      "metadata": {
        "id": "Oo7Dox0C2mqj"
      },
      "source": [
        "# 1. Identifier les différentes type services (i.e les différentes types de clients) et modéliser la loi des arrivées pour chaque type service"
      ]
    },
    {
      "cell_type": "code",
      "metadata": {
        "scrolled": true,
        "id": "E4dXv0x72mqk",
        "colab": {
          "base_uri": "https://localhost:8080/"
        },
        "outputId": "780c0ad1-3c72-4883-8ebd-882ea17ac770"
      },
      "source": [
        "service_types = month['type'].unique()\n",
        "service_types"
      ],
      "execution_count": null,
      "outputs": [
        {
          "output_type": "execute_result",
          "data": {
            "text/plain": [
              "array(['PS', 'NW', 'PE', 'NE', 'TT', 'IN', 'AA'], dtype=object)"
            ]
          },
          "metadata": {
            "tags": []
          },
          "execution_count": 27
        }
      ]
    },
    {
      "cell_type": "markdown",
      "metadata": {
        "id": "DNF408Ci9bjx"
      },
      "source": [
        "Là, nous avons identifié six(6) types de sevice : \n",
        "\n",
        "\n",
        "*   PS\n",
        "*   NW\n",
        "*   PE\n",
        "*   NE\n",
        "*   TT\n",
        "*   IN\n",
        "*   AA"
      ]
    },
    {
      "cell_type": "markdown",
      "metadata": {
        "id": "frKnd-qD-AXL"
      },
      "source": [
        ""
      ]
    },
    {
      "cell_type": "code",
      "metadata": {
        "id": "150KxU9H2mqk",
        "colab": {
          "base_uri": "https://localhost:8080/",
          "height": 222
        },
        "outputId": "50d63d11-d265-42a6-b8e0-bedbbb2ec69d"
      },
      "source": [
        "month.tail()"
      ],
      "execution_count": null,
      "outputs": [
        {
          "output_type": "execute_result",
          "data": {
            "text/html": [
              "<div>\n",
              "<style scoped>\n",
              "    .dataframe tbody tr th:only-of-type {\n",
              "        vertical-align: middle;\n",
              "    }\n",
              "\n",
              "    .dataframe tbody tr th {\n",
              "        vertical-align: top;\n",
              "    }\n",
              "\n",
              "    .dataframe thead th {\n",
              "        text-align: right;\n",
              "    }\n",
              "</style>\n",
              "<table border=\"1\" class=\"dataframe\">\n",
              "  <thead>\n",
              "    <tr style=\"text-align: right;\">\n",
              "      <th></th>\n",
              "      <th>call_id</th>\n",
              "      <th>priority</th>\n",
              "      <th>type</th>\n",
              "      <th>date</th>\n",
              "      <th>vru_entry</th>\n",
              "      <th>vru_exit</th>\n",
              "      <th>vru_time</th>\n",
              "      <th>q_start</th>\n",
              "      <th>q_exit</th>\n",
              "      <th>q_time</th>\n",
              "      <th>outcome</th>\n",
              "      <th>ser_start</th>\n",
              "      <th>ser_exit</th>\n",
              "      <th>ser_time</th>\n",
              "      <th>server</th>\n",
              "      <th>month</th>\n",
              "      <th>weekday</th>\n",
              "      <th>day</th>\n",
              "      <th>entry_hour</th>\n",
              "    </tr>\n",
              "  </thead>\n",
              "  <tbody>\n",
              "    <tr>\n",
              "      <th>31594</th>\n",
              "      <td>5460</td>\n",
              "      <td>0</td>\n",
              "      <td>IN</td>\n",
              "      <td>990131</td>\n",
              "      <td>14:05:51</td>\n",
              "      <td>14:06:00</td>\n",
              "      <td>9</td>\n",
              "      <td>14:06:00</td>\n",
              "      <td>14:11:08</td>\n",
              "      <td>308</td>\n",
              "      <td>AGENT</td>\n",
              "      <td>14:09:59</td>\n",
              "      <td>14:13:08</td>\n",
              "      <td>189</td>\n",
              "      <td>TOVA</td>\n",
              "      <td>1</td>\n",
              "      <td>6</td>\n",
              "      <td>31</td>\n",
              "      <td>14</td>\n",
              "    </tr>\n",
              "    <tr>\n",
              "      <th>31595</th>\n",
              "      <td>5461</td>\n",
              "      <td>0</td>\n",
              "      <td>IN</td>\n",
              "      <td>990131</td>\n",
              "      <td>16:55:02</td>\n",
              "      <td>16:55:14</td>\n",
              "      <td>12</td>\n",
              "      <td>0:00:00</td>\n",
              "      <td>0:00:00</td>\n",
              "      <td>0</td>\n",
              "      <td>AGENT</td>\n",
              "      <td>16:55:13</td>\n",
              "      <td>17:02:04</td>\n",
              "      <td>411</td>\n",
              "      <td>YIFAT</td>\n",
              "      <td>1</td>\n",
              "      <td>6</td>\n",
              "      <td>31</td>\n",
              "      <td>16</td>\n",
              "    </tr>\n",
              "    <tr>\n",
              "      <th>31596</th>\n",
              "      <td>5462</td>\n",
              "      <td>0</td>\n",
              "      <td>IN</td>\n",
              "      <td>990131</td>\n",
              "      <td>21:59:43</td>\n",
              "      <td>22:00:01</td>\n",
              "      <td>18</td>\n",
              "      <td>0:00:00</td>\n",
              "      <td>0:00:00</td>\n",
              "      <td>0</td>\n",
              "      <td>AGENT</td>\n",
              "      <td>22:00:00</td>\n",
              "      <td>22:03:11</td>\n",
              "      <td>191</td>\n",
              "      <td>MICHAL</td>\n",
              "      <td>1</td>\n",
              "      <td>6</td>\n",
              "      <td>31</td>\n",
              "      <td>21</td>\n",
              "    </tr>\n",
              "    <tr>\n",
              "      <th>31597</th>\n",
              "      <td>5463</td>\n",
              "      <td>0</td>\n",
              "      <td>IN</td>\n",
              "      <td>990131</td>\n",
              "      <td>23:22:59</td>\n",
              "      <td>23:23:09</td>\n",
              "      <td>10</td>\n",
              "      <td>23:23:09</td>\n",
              "      <td>23:24:16</td>\n",
              "      <td>67</td>\n",
              "      <td>AGENT</td>\n",
              "      <td>23:24:15</td>\n",
              "      <td>23:26:04</td>\n",
              "      <td>109</td>\n",
              "      <td>BENSION</td>\n",
              "      <td>1</td>\n",
              "      <td>6</td>\n",
              "      <td>31</td>\n",
              "      <td>23</td>\n",
              "    </tr>\n",
              "    <tr>\n",
              "      <th>31598</th>\n",
              "      <td>5464</td>\n",
              "      <td>0</td>\n",
              "      <td>IN</td>\n",
              "      <td>990131</td>\n",
              "      <td>23:26:18</td>\n",
              "      <td>23:26:27</td>\n",
              "      <td>9</td>\n",
              "      <td>23:26:27</td>\n",
              "      <td>23:26:44</td>\n",
              "      <td>17</td>\n",
              "      <td>AGENT</td>\n",
              "      <td>23:26:43</td>\n",
              "      <td>23:27:45</td>\n",
              "      <td>62</td>\n",
              "      <td>BENSION</td>\n",
              "      <td>1</td>\n",
              "      <td>6</td>\n",
              "      <td>31</td>\n",
              "      <td>23</td>\n",
              "    </tr>\n",
              "  </tbody>\n",
              "</table>\n",
              "</div>"
            ],
            "text/plain": [
              "       call_id  priority type    date  ... month weekday  day entry_hour\n",
              "31594     5460         0   IN  990131  ...     1       6   31         14\n",
              "31595     5461         0   IN  990131  ...     1       6   31         16\n",
              "31596     5462         0   IN  990131  ...     1       6   31         21\n",
              "31597     5463         0   IN  990131  ...     1       6   31         23\n",
              "31598     5464         0   IN  990131  ...     1       6   31         23\n",
              "\n",
              "[5 rows x 19 columns]"
            ]
          },
          "metadata": {
            "tags": []
          },
          "execution_count": 28
        }
      ]
    },
    {
      "cell_type": "markdown",
      "metadata": {
        "id": "0Cf3EJCw-Gtp"
      },
      "source": [
        "Pour la loi des arrivées,  on travaille avec le service de type PS vu que c'est la même logique pour tous les services.\n",
        "On sélectionne le premier jour du mois et la colonne vru_entry."
      ]
    },
    {
      "cell_type": "code",
      "metadata": {
        "id": "0Q3lMJN92mqk"
      },
      "source": [
        "day = month[month[\"day\"]==1]"
      ],
      "execution_count": null,
      "outputs": []
    },
    {
      "cell_type": "code",
      "metadata": {
        "scrolled": false,
        "id": "gn3-bh_q2mqk",
        "colab": {
          "base_uri": "https://localhost:8080/",
          "height": 435
        },
        "outputId": "f27a70b4-d572-45fd-b3a7-9ffc07e8014d"
      },
      "source": [
        "day"
      ],
      "execution_count": null,
      "outputs": [
        {
          "output_type": "execute_result",
          "data": {
            "text/html": [
              "<div>\n",
              "<style scoped>\n",
              "    .dataframe tbody tr th:only-of-type {\n",
              "        vertical-align: middle;\n",
              "    }\n",
              "\n",
              "    .dataframe tbody tr th {\n",
              "        vertical-align: top;\n",
              "    }\n",
              "\n",
              "    .dataframe thead th {\n",
              "        text-align: right;\n",
              "    }\n",
              "</style>\n",
              "<table border=\"1\" class=\"dataframe\">\n",
              "  <thead>\n",
              "    <tr style=\"text-align: right;\">\n",
              "      <th></th>\n",
              "      <th>call_id</th>\n",
              "      <th>priority</th>\n",
              "      <th>type</th>\n",
              "      <th>date</th>\n",
              "      <th>vru_entry</th>\n",
              "      <th>vru_exit</th>\n",
              "      <th>vru_time</th>\n",
              "      <th>q_start</th>\n",
              "      <th>q_exit</th>\n",
              "      <th>q_time</th>\n",
              "      <th>outcome</th>\n",
              "      <th>ser_start</th>\n",
              "      <th>ser_exit</th>\n",
              "      <th>ser_time</th>\n",
              "      <th>server</th>\n",
              "      <th>month</th>\n",
              "      <th>weekday</th>\n",
              "      <th>day</th>\n",
              "      <th>entry_hour</th>\n",
              "    </tr>\n",
              "  </thead>\n",
              "  <tbody>\n",
              "    <tr>\n",
              "      <th>0</th>\n",
              "      <td>33116</td>\n",
              "      <td>2</td>\n",
              "      <td>PS</td>\n",
              "      <td>990101</td>\n",
              "      <td>0:00:31</td>\n",
              "      <td>0:00:36</td>\n",
              "      <td>5</td>\n",
              "      <td>0:00:36</td>\n",
              "      <td>0:03:09</td>\n",
              "      <td>153</td>\n",
              "      <td>HANG</td>\n",
              "      <td>0:00:00</td>\n",
              "      <td>0:00:00</td>\n",
              "      <td>0</td>\n",
              "      <td>NO_SERVER</td>\n",
              "      <td>1</td>\n",
              "      <td>4</td>\n",
              "      <td>1</td>\n",
              "      <td>0</td>\n",
              "    </tr>\n",
              "    <tr>\n",
              "      <th>1</th>\n",
              "      <td>33117</td>\n",
              "      <td>0</td>\n",
              "      <td>PS</td>\n",
              "      <td>990101</td>\n",
              "      <td>0:34:12</td>\n",
              "      <td>0:34:23</td>\n",
              "      <td>11</td>\n",
              "      <td>0:00:00</td>\n",
              "      <td>0:00:00</td>\n",
              "      <td>0</td>\n",
              "      <td>HANG</td>\n",
              "      <td>0:00:00</td>\n",
              "      <td>0:00:00</td>\n",
              "      <td>0</td>\n",
              "      <td>NO_SERVER</td>\n",
              "      <td>1</td>\n",
              "      <td>4</td>\n",
              "      <td>1</td>\n",
              "      <td>0</td>\n",
              "    </tr>\n",
              "    <tr>\n",
              "      <th>2</th>\n",
              "      <td>33118</td>\n",
              "      <td>2</td>\n",
              "      <td>PS</td>\n",
              "      <td>990101</td>\n",
              "      <td>6:55:20</td>\n",
              "      <td>6:55:26</td>\n",
              "      <td>6</td>\n",
              "      <td>6:55:26</td>\n",
              "      <td>6:55:43</td>\n",
              "      <td>17</td>\n",
              "      <td>AGENT</td>\n",
              "      <td>6:55:43</td>\n",
              "      <td>6:56:37</td>\n",
              "      <td>54</td>\n",
              "      <td>MICHAL</td>\n",
              "      <td>1</td>\n",
              "      <td>4</td>\n",
              "      <td>1</td>\n",
              "      <td>6</td>\n",
              "    </tr>\n",
              "    <tr>\n",
              "      <th>3</th>\n",
              "      <td>33119</td>\n",
              "      <td>0</td>\n",
              "      <td>PS</td>\n",
              "      <td>990101</td>\n",
              "      <td>7:41:16</td>\n",
              "      <td>7:41:26</td>\n",
              "      <td>10</td>\n",
              "      <td>0:00:00</td>\n",
              "      <td>0:00:00</td>\n",
              "      <td>0</td>\n",
              "      <td>AGENT</td>\n",
              "      <td>7:41:25</td>\n",
              "      <td>7:44:53</td>\n",
              "      <td>208</td>\n",
              "      <td>BASCH</td>\n",
              "      <td>1</td>\n",
              "      <td>4</td>\n",
              "      <td>1</td>\n",
              "      <td>7</td>\n",
              "    </tr>\n",
              "    <tr>\n",
              "      <th>4</th>\n",
              "      <td>33120</td>\n",
              "      <td>0</td>\n",
              "      <td>PS</td>\n",
              "      <td>990101</td>\n",
              "      <td>8:03:14</td>\n",
              "      <td>8:03:24</td>\n",
              "      <td>10</td>\n",
              "      <td>0:00:00</td>\n",
              "      <td>0:00:00</td>\n",
              "      <td>0</td>\n",
              "      <td>AGENT</td>\n",
              "      <td>8:03:23</td>\n",
              "      <td>8:05:10</td>\n",
              "      <td>107</td>\n",
              "      <td>MICHAL</td>\n",
              "      <td>1</td>\n",
              "      <td>4</td>\n",
              "      <td>1</td>\n",
              "      <td>8</td>\n",
              "    </tr>\n",
              "    <tr>\n",
              "      <th>...</th>\n",
              "      <td>...</td>\n",
              "      <td>...</td>\n",
              "      <td>...</td>\n",
              "      <td>...</td>\n",
              "      <td>...</td>\n",
              "      <td>...</td>\n",
              "      <td>...</td>\n",
              "      <td>...</td>\n",
              "      <td>...</td>\n",
              "      <td>...</td>\n",
              "      <td>...</td>\n",
              "      <td>...</td>\n",
              "      <td>...</td>\n",
              "      <td>...</td>\n",
              "      <td>...</td>\n",
              "      <td>...</td>\n",
              "      <td>...</td>\n",
              "      <td>...</td>\n",
              "      <td>...</td>\n",
              "    </tr>\n",
              "    <tr>\n",
              "      <th>31457</th>\n",
              "      <td>5323</td>\n",
              "      <td>0</td>\n",
              "      <td>IN</td>\n",
              "      <td>990101</td>\n",
              "      <td>9:19:14</td>\n",
              "      <td>9:19:24</td>\n",
              "      <td>10</td>\n",
              "      <td>9:19:24</td>\n",
              "      <td>9:22:34</td>\n",
              "      <td>190</td>\n",
              "      <td>HANG</td>\n",
              "      <td>0:00:00</td>\n",
              "      <td>0:00:00</td>\n",
              "      <td>0</td>\n",
              "      <td>NO_SERVER</td>\n",
              "      <td>1</td>\n",
              "      <td>4</td>\n",
              "      <td>1</td>\n",
              "      <td>9</td>\n",
              "    </tr>\n",
              "    <tr>\n",
              "      <th>31458</th>\n",
              "      <td>5324</td>\n",
              "      <td>0</td>\n",
              "      <td>IN</td>\n",
              "      <td>990101</td>\n",
              "      <td>9:58:06</td>\n",
              "      <td>9:58:37</td>\n",
              "      <td>31</td>\n",
              "      <td>0:00:00</td>\n",
              "      <td>0:00:00</td>\n",
              "      <td>0</td>\n",
              "      <td>AGENT</td>\n",
              "      <td>9:58:36</td>\n",
              "      <td>9:59:59</td>\n",
              "      <td>83</td>\n",
              "      <td>MICHAL</td>\n",
              "      <td>1</td>\n",
              "      <td>4</td>\n",
              "      <td>1</td>\n",
              "      <td>9</td>\n",
              "    </tr>\n",
              "    <tr>\n",
              "      <th>31459</th>\n",
              "      <td>5325</td>\n",
              "      <td>0</td>\n",
              "      <td>IN</td>\n",
              "      <td>990101</td>\n",
              "      <td>10:14:53</td>\n",
              "      <td>10:15:02</td>\n",
              "      <td>9</td>\n",
              "      <td>10:15:02</td>\n",
              "      <td>10:16:27</td>\n",
              "      <td>85</td>\n",
              "      <td>HANG</td>\n",
              "      <td>0:00:00</td>\n",
              "      <td>0:00:00</td>\n",
              "      <td>0</td>\n",
              "      <td>NO_SERVER</td>\n",
              "      <td>1</td>\n",
              "      <td>4</td>\n",
              "      <td>1</td>\n",
              "      <td>10</td>\n",
              "    </tr>\n",
              "    <tr>\n",
              "      <th>31460</th>\n",
              "      <td>5326</td>\n",
              "      <td>0</td>\n",
              "      <td>IN</td>\n",
              "      <td>990101</td>\n",
              "      <td>10:46:12</td>\n",
              "      <td>10:46:22</td>\n",
              "      <td>10</td>\n",
              "      <td>10:46:22</td>\n",
              "      <td>10:46:45</td>\n",
              "      <td>23</td>\n",
              "      <td>AGENT</td>\n",
              "      <td>10:46:45</td>\n",
              "      <td>10:47:23</td>\n",
              "      <td>38</td>\n",
              "      <td>MICHAL</td>\n",
              "      <td>1</td>\n",
              "      <td>4</td>\n",
              "      <td>1</td>\n",
              "      <td>10</td>\n",
              "    </tr>\n",
              "    <tr>\n",
              "      <th>31461</th>\n",
              "      <td>5327</td>\n",
              "      <td>0</td>\n",
              "      <td>IN</td>\n",
              "      <td>990101</td>\n",
              "      <td>11:41:22</td>\n",
              "      <td>11:41:31</td>\n",
              "      <td>9</td>\n",
              "      <td>11:41:31</td>\n",
              "      <td>11:42:00</td>\n",
              "      <td>29</td>\n",
              "      <td>AGENT</td>\n",
              "      <td>11:41:58</td>\n",
              "      <td>11:48:57</td>\n",
              "      <td>419</td>\n",
              "      <td>VICKY</td>\n",
              "      <td>1</td>\n",
              "      <td>4</td>\n",
              "      <td>1</td>\n",
              "      <td>11</td>\n",
              "    </tr>\n",
              "  </tbody>\n",
              "</table>\n",
              "<p>598 rows × 19 columns</p>\n",
              "</div>"
            ],
            "text/plain": [
              "       call_id  priority type    date  ... month weekday  day entry_hour\n",
              "0        33116         2   PS  990101  ...     1       4    1          0\n",
              "1        33117         0   PS  990101  ...     1       4    1          0\n",
              "2        33118         2   PS  990101  ...     1       4    1          6\n",
              "3        33119         0   PS  990101  ...     1       4    1          7\n",
              "4        33120         0   PS  990101  ...     1       4    1          8\n",
              "...        ...       ...  ...     ...  ...   ...     ...  ...        ...\n",
              "31457     5323         0   IN  990101  ...     1       4    1          9\n",
              "31458     5324         0   IN  990101  ...     1       4    1          9\n",
              "31459     5325         0   IN  990101  ...     1       4    1         10\n",
              "31460     5326         0   IN  990101  ...     1       4    1         10\n",
              "31461     5327         0   IN  990101  ...     1       4    1         11\n",
              "\n",
              "[598 rows x 19 columns]"
            ]
          },
          "metadata": {
            "tags": []
          },
          "execution_count": 30
        }
      ]
    },
    {
      "cell_type": "markdown",
      "metadata": {
        "id": "seLeJ16vBgHE"
      },
      "source": [
        "Vu que les données sont des chaines de caractères, il est nécessaire de les transformer en format date puis en secondes  pour pouvoir afficher leur distribution. Pour ce faire, nous utilisons la fonction dateToSecond qu'on avait écrite précedemment."
      ]
    },
    {
      "cell_type": "code",
      "metadata": {
        "id": "-JEvgEsC2mql"
      },
      "source": [
        "arrivals = dateToSecond(parse_times(day[day['type']=='PS'], column_name='vru_entry'))"
      ],
      "execution_count": null,
      "outputs": []
    },
    {
      "cell_type": "code",
      "metadata": {
        "scrolled": false,
        "id": "uzOL_82G2mql",
        "colab": {
          "base_uri": "https://localhost:8080/"
        },
        "outputId": "b284e879-d4ac-4f49-b854-eb7c35674b38"
      },
      "source": [
        "arrivals.head()"
      ],
      "execution_count": null,
      "outputs": [
        {
          "output_type": "execute_result",
          "data": {
            "text/plain": [
              "0       31\n",
              "1     2052\n",
              "2    24920\n",
              "3    27676\n",
              "4    28994\n",
              "Name: vru_entry, dtype: int64"
            ]
          },
          "metadata": {
            "tags": []
          },
          "execution_count": 32
        }
      ]
    },
    {
      "cell_type": "markdown",
      "metadata": {
        "id": "NbBoubmiCoPd"
      },
      "source": [
        "La fonction get_inter_arrivals permet de calculer les inter-arrivées à partir de la liste des arrivées. "
      ]
    },
    {
      "cell_type": "code",
      "metadata": {
        "id": "zQTpklhp2mql"
      },
      "source": [
        "inter_arrivals = get_inter_arrivals(arrivals.sort_values())"
      ],
      "execution_count": null,
      "outputs": []
    },
    {
      "cell_type": "markdown",
      "metadata": {
        "id": "5rA06Bq5GoTN"
      },
      "source": [
        "Maintenant, sans aucune connaissance de la distribution ou de son paramètre, quelle est la distribution qui correspond le mieux aux données? Scipy a 80 distributions et la classe Fitter les analysera toutes, appellera la fonction fit pour nous, ignorant celles qui échouent ou s'exécutent pour toujours et nous donnera enfin un résumé des meilleures distributions dans le sens de la somme des erreurs carrées."
      ]
    },
    {
      "cell_type": "markdown",
      "metadata": {
        "id": "Q3EYIr1GE73P"
      },
      "source": [
        "Lorsque l'on estime un modèle statistique, il est possible d'augmenter la vraisemblance du modèle en ajoutant un paramètre. Le critère d'information d'Akaike (aic), tout comme le critère d'information bayésien (bic), permet de pénaliser les modèles en fonction du nombre de paramètres afin de satisfaire le critère de parcimonie. On choisit alors le modèle avec le critère d'information d'Akaike le plus faible. \n",
        "\n",
        "En résumé plus le aic est faible plus le modèle est bon.\n",
        "Nous utiliserons donc comme critère de performance: \n",
        "\n",
        "1.   La somme des erreurs quadratiques\n",
        "2.   Le AIC (critère d'information d'Akaike)\n",
        "3.   Le BIC (critère d'information bayésien)"
      ]
    },
    {
      "cell_type": "code",
      "metadata": {
        "id": "Tud2JLsn2mql",
        "colab": {
          "base_uri": "https://localhost:8080/",
          "height": 485
        },
        "outputId": "dcdfe865-9de3-42fa-a953-4b4a01e5b977"
      },
      "source": [
        "inter_arrivals_distributions = [\n",
        "     'wald', 'burr12', 'lognorm', \n",
        "     'gilbrat', 'invgauss', 'cauchy', \n",
        "     'betaprime', 'f', 'invgamma', \n",
        "     'geninvgauss'\n",
        "]\n",
        "\n",
        "fitter_arrivals = Fitter(data=inter_arrivals, distributions=inter_arrivals_distributions, bins=200, xmax=1000)\n",
        "fitter_arrivals.fit(progress=True)\n",
        "\n",
        "print(f\"Summary...\")\n",
        "fitter_arrivals.summary(Nbest=5)"
      ],
      "execution_count": null,
      "outputs": [
        {
          "output_type": "display_data",
          "data": {
            "text/html": [
              "\n",
              "            <div style=\"float: left; border: 1px solid black; width:500px\">\n",
              "              <div id=\"c4dcb4fd-894c-4247-af17-828fef375d0d\" style=\"background-color:blue; width:0%\">&nbsp;</div>\n",
              "            </div>\n",
              "            <label id=\"5d54ea1f-e8f1-4ffc-a965-da4a5fb5c62c\" style=\"padding-left: 10px;\" text = \"\"/>\n",
              "            "
            ],
            "text/plain": [
              "<IPython.core.display.HTML object>"
            ]
          },
          "metadata": {
            "tags": []
          }
        },
        {
          "output_type": "display_data",
          "data": {
            "application/javascript": [
              "$('div#c4dcb4fd-894c-4247-af17-828fef375d0d').width('10%')"
            ],
            "text/plain": [
              "<IPython.core.display.Javascript object>"
            ]
          },
          "metadata": {
            "tags": []
          }
        },
        {
          "output_type": "display_data",
          "data": {
            "application/javascript": [
              "$('label#5d54ea1f-e8f1-4ffc-a965-da4a5fb5c62c').text('10% in 0.1 sec')"
            ],
            "text/plain": [
              "<IPython.core.display.Javascript object>"
            ]
          },
          "metadata": {
            "tags": []
          }
        },
        {
          "output_type": "display_data",
          "data": {
            "application/javascript": [
              "$('div#c4dcb4fd-894c-4247-af17-828fef375d0d').width('20%')"
            ],
            "text/plain": [
              "<IPython.core.display.Javascript object>"
            ]
          },
          "metadata": {
            "tags": []
          }
        },
        {
          "output_type": "display_data",
          "data": {
            "application/javascript": [
              "$('label#5d54ea1f-e8f1-4ffc-a965-da4a5fb5c62c').text('20% in 0.3 sec')"
            ],
            "text/plain": [
              "<IPython.core.display.Javascript object>"
            ]
          },
          "metadata": {
            "tags": []
          }
        },
        {
          "output_type": "display_data",
          "data": {
            "application/javascript": [
              "$('div#c4dcb4fd-894c-4247-af17-828fef375d0d').width('30%')"
            ],
            "text/plain": [
              "<IPython.core.display.Javascript object>"
            ]
          },
          "metadata": {
            "tags": []
          }
        },
        {
          "output_type": "display_data",
          "data": {
            "application/javascript": [
              "$('div#c4dcb4fd-894c-4247-af17-828fef375d0d').width('40%')"
            ],
            "text/plain": [
              "<IPython.core.display.Javascript object>"
            ]
          },
          "metadata": {
            "tags": []
          }
        },
        {
          "output_type": "display_data",
          "data": {
            "application/javascript": [
              "$('label#5d54ea1f-e8f1-4ffc-a965-da4a5fb5c62c').text('30% in 0.5 sec')"
            ],
            "text/plain": [
              "<IPython.core.display.Javascript object>"
            ]
          },
          "metadata": {
            "tags": []
          }
        },
        {
          "output_type": "display_data",
          "data": {
            "application/javascript": [
              "$('label#5d54ea1f-e8f1-4ffc-a965-da4a5fb5c62c').text('40% in 0.5 sec')"
            ],
            "text/plain": [
              "<IPython.core.display.Javascript object>"
            ]
          },
          "metadata": {
            "tags": []
          }
        },
        {
          "output_type": "display_data",
          "data": {
            "application/javascript": [
              "$('div#c4dcb4fd-894c-4247-af17-828fef375d0d').width('50%')"
            ],
            "text/plain": [
              "<IPython.core.display.Javascript object>"
            ]
          },
          "metadata": {
            "tags": []
          }
        },
        {
          "output_type": "display_data",
          "data": {
            "application/javascript": [
              "$('label#5d54ea1f-e8f1-4ffc-a965-da4a5fb5c62c').text('50% in 0.6 sec')"
            ],
            "text/plain": [
              "<IPython.core.display.Javascript object>"
            ]
          },
          "metadata": {
            "tags": []
          }
        },
        {
          "output_type": "display_data",
          "data": {
            "application/javascript": [
              "$('div#c4dcb4fd-894c-4247-af17-828fef375d0d').width('60%')"
            ],
            "text/plain": [
              "<IPython.core.display.Javascript object>"
            ]
          },
          "metadata": {
            "tags": []
          }
        },
        {
          "output_type": "display_data",
          "data": {
            "application/javascript": [
              "$('label#5d54ea1f-e8f1-4ffc-a965-da4a5fb5c62c').text('60% in 0.6 sec')"
            ],
            "text/plain": [
              "<IPython.core.display.Javascript object>"
            ]
          },
          "metadata": {
            "tags": []
          }
        },
        {
          "output_type": "display_data",
          "data": {
            "application/javascript": [
              "$('div#c4dcb4fd-894c-4247-af17-828fef375d0d').width('70%')"
            ],
            "text/plain": [
              "<IPython.core.display.Javascript object>"
            ]
          },
          "metadata": {
            "tags": []
          }
        },
        {
          "output_type": "display_data",
          "data": {
            "application/javascript": [
              "$('label#5d54ea1f-e8f1-4ffc-a965-da4a5fb5c62c').text('70% in 1.0 sec')"
            ],
            "text/plain": [
              "<IPython.core.display.Javascript object>"
            ]
          },
          "metadata": {
            "tags": []
          }
        },
        {
          "output_type": "display_data",
          "data": {
            "application/javascript": [
              "$('div#c4dcb4fd-894c-4247-af17-828fef375d0d').width('80%')"
            ],
            "text/plain": [
              "<IPython.core.display.Javascript object>"
            ]
          },
          "metadata": {
            "tags": []
          }
        },
        {
          "output_type": "display_data",
          "data": {
            "application/javascript": [
              "$('label#5d54ea1f-e8f1-4ffc-a965-da4a5fb5c62c').text('80% in 1.1 sec')"
            ],
            "text/plain": [
              "<IPython.core.display.Javascript object>"
            ]
          },
          "metadata": {
            "tags": []
          }
        },
        {
          "output_type": "display_data",
          "data": {
            "application/javascript": [
              "$('div#c4dcb4fd-894c-4247-af17-828fef375d0d').width('90%')"
            ],
            "text/plain": [
              "<IPython.core.display.Javascript object>"
            ]
          },
          "metadata": {
            "tags": []
          }
        },
        {
          "output_type": "display_data",
          "data": {
            "application/javascript": [
              "$('label#5d54ea1f-e8f1-4ffc-a965-da4a5fb5c62c').text('90% in 1.2 sec')"
            ],
            "text/plain": [
              "<IPython.core.display.Javascript object>"
            ]
          },
          "metadata": {
            "tags": []
          }
        },
        {
          "output_type": "display_data",
          "data": {
            "application/javascript": [
              "$('div#c4dcb4fd-894c-4247-af17-828fef375d0d').width('100%')"
            ],
            "text/plain": [
              "<IPython.core.display.Javascript object>"
            ]
          },
          "metadata": {
            "tags": []
          }
        },
        {
          "output_type": "display_data",
          "data": {
            "application/javascript": [
              "$('label#5d54ea1f-e8f1-4ffc-a965-da4a5fb5c62c').text('100% in 1.3 sec')"
            ],
            "text/plain": [
              "<IPython.core.display.Javascript object>"
            ]
          },
          "metadata": {
            "tags": []
          }
        },
        {
          "output_type": "stream",
          "text": [
            "Summary...\n"
          ],
          "name": "stdout"
        },
        {
          "output_type": "execute_result",
          "data": {
            "text/html": [
              "<div>\n",
              "<style scoped>\n",
              "    .dataframe tbody tr th:only-of-type {\n",
              "        vertical-align: middle;\n",
              "    }\n",
              "\n",
              "    .dataframe tbody tr th {\n",
              "        vertical-align: top;\n",
              "    }\n",
              "\n",
              "    .dataframe thead th {\n",
              "        text-align: right;\n",
              "    }\n",
              "</style>\n",
              "<table border=\"1\" class=\"dataframe\">\n",
              "  <thead>\n",
              "    <tr style=\"text-align: right;\">\n",
              "      <th></th>\n",
              "      <th>sumsquare_error</th>\n",
              "      <th>aic</th>\n",
              "      <th>bic</th>\n",
              "      <th>kl_div</th>\n",
              "    </tr>\n",
              "  </thead>\n",
              "  <tbody>\n",
              "    <tr>\n",
              "      <th>burr12</th>\n",
              "      <td>0.000143</td>\n",
              "      <td>3574.584423</td>\n",
              "      <td>-6978.801982</td>\n",
              "      <td>inf</td>\n",
              "    </tr>\n",
              "    <tr>\n",
              "      <th>geninvgauss</th>\n",
              "      <td>0.000152</td>\n",
              "      <td>3760.725936</td>\n",
              "      <td>-6952.623011</td>\n",
              "      <td>inf</td>\n",
              "    </tr>\n",
              "    <tr>\n",
              "      <th>invgauss</th>\n",
              "      <td>0.000227</td>\n",
              "      <td>3532.270267</td>\n",
              "      <td>-6770.771577</td>\n",
              "      <td>inf</td>\n",
              "    </tr>\n",
              "    <tr>\n",
              "      <th>gilbrat</th>\n",
              "      <td>0.000234</td>\n",
              "      <td>3540.970300</td>\n",
              "      <td>-6761.817092</td>\n",
              "      <td>inf</td>\n",
              "    </tr>\n",
              "    <tr>\n",
              "      <th>wald</th>\n",
              "      <td>0.000245</td>\n",
              "      <td>3691.325373</td>\n",
              "      <td>-6741.472005</td>\n",
              "      <td>inf</td>\n",
              "    </tr>\n",
              "  </tbody>\n",
              "</table>\n",
              "</div>"
            ],
            "text/plain": [
              "             sumsquare_error          aic          bic  kl_div\n",
              "burr12              0.000143  3574.584423 -6978.801982     inf\n",
              "geninvgauss         0.000152  3760.725936 -6952.623011     inf\n",
              "invgauss            0.000227  3532.270267 -6770.771577     inf\n",
              "gilbrat             0.000234  3540.970300 -6761.817092     inf\n",
              "wald                0.000245  3691.325373 -6741.472005     inf"
            ]
          },
          "metadata": {
            "tags": []
          },
          "execution_count": 34
        },
        {
          "output_type": "display_data",
          "data": {
            "image/png": "[encoded data removed]",
            "text/plain": [
              "<Figure size 432x288 with 1 Axes>"
            ]
          },
          "metadata": {
            "tags": [],
            "needs_background": "light"
          }
        }
      ]
    },
    {
      "cell_type": "markdown",
      "metadata": {
        "id": "aNiGxGg4JF-E"
      },
      "source": [
        "La distribution de type Burr 12 est une famille de distributions à trois paramètres sur R+.\n",
        "Elle est utilisé dans divers domaines tels que la finance, l'hydrologie et la fiabilité pour modéliser divers types de données. Des exemples de données modélisées par la distribution de Burr sont le revenu des ménages, les prix des récoltes, le risque d'assurance, le temps de trajet, les niveaux d'inondations et les données de défaillance.\n",
        "\n",
        "La distribution de Burr à trois paramètres est définie par son paramètre d'échelle α et les paramètres de forme c et k.\n",
        "\n",
        "![image.png](data:image/png;base64,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)"
      ]
    },
    {
      "cell_type": "code",
      "metadata": {
        "id": "nJYO5iUo2mqm",
        "colab": {
          "base_uri": "https://localhost:8080/"
        },
        "outputId": "5882a427-1428-45f0-c90d-00354847cde0"
      },
      "source": [
        "fitter_arrivals.get_best()"
      ],
      "execution_count": null,
      "outputs": [
        {
          "output_type": "execute_result",
          "data": {
            "text/plain": [
              "{'burr12': (519.8621945703965,\n",
              "  0.009542883624444984,\n",
              "  -258.11209266033876,\n",
              "  258.30293573977804)}"
            ]
          },
          "metadata": {
            "tags": []
          },
          "execution_count": 35
        }
      ]
    },
    {
      "cell_type": "markdown",
      "metadata": {
        "id": "Baad_yHk2mqm"
      },
      "source": [
        "# 2. Modéliser la loi des temps de patience des clients "
      ]
    },
    {
      "cell_type": "markdown",
      "metadata": {
        "id": "HJV77Pp5H4_3"
      },
      "source": [
        "Pour la loi des temps de patience,  on sélectionne les clients qui n'ont pas été servis c'est-à-dire dont la colonne outcome est égale à HANG. Le reste, on ne peut pas déterminer leur temps de patience car il nous est impossible de dire combien de temps ils auraient attendu si il n'avaient pas eu d'agent à leur service."
      ]
    },
    {
      "cell_type": "code",
      "metadata": {
        "id": "KpUbKXPj2mqm"
      },
      "source": [
        "waiters = day[day['outcome']=='HANG']"
      ],
      "execution_count": null,
      "outputs": []
    },
    {
      "cell_type": "code",
      "metadata": {
        "id": "EvKNKe472mqm"
      },
      "source": [
        "patience_time = waiters['q_time'].values"
      ],
      "execution_count": null,
      "outputs": []
    },
    {
      "cell_type": "code",
      "metadata": {
        "id": "J1d267Td2mqm",
        "colab": {
          "base_uri": "https://localhost:8080/"
        },
        "outputId": "d84938ae-ca13-427d-e050-a5656acd8cdc"
      },
      "source": [
        "patience_time"
      ],
      "execution_count": null,
      "outputs": [
        {
          "output_type": "execute_result",
          "data": {
            "text/plain": [
              "array([153,   0, 112,   0,   0,   0,  51,  11,   0,   0,   0,  46,   0,\n",
              "         0,   0,   0,   1,   0,   0,   0,   5,   0,   0,   0, 140,   0,\n",
              "         0,   0,  71,   0,   0,   0,  39,   0,   0,   0,   0,   0,   0,\n",
              "        12,   9,   0,  98,   0,  44,   0,   0,   0,  10,   0,   0,  39,\n",
              "         0,   0,   0,   0,   0,   0,   0,   0,   0,   0,   0,   0,   0,\n",
              "        13,   0,   0,   0,   0,  75,   0,   0,   0,  15,  33,   0,   0,\n",
              "         0,  52,  48,   0,   0,  33,  18,  25,   0, 133,   0,   0,   0,\n",
              "       190,  85])"
            ]
          },
          "metadata": {
            "tags": []
          },
          "execution_count": 38
        }
      ]
    },
    {
      "cell_type": "code",
      "metadata": {
        "id": "ZYKlRTUB2mqn"
      },
      "source": [
        "patience_distributions = ['pareto', 'exponweib', 'betaprime', 'fisk', 'f']"
      ],
      "execution_count": null,
      "outputs": []
    },
    {
      "cell_type": "code",
      "metadata": {
        "scrolled": false,
        "id": "aXBh2rNT2mqn",
        "colab": {
          "base_uri": "https://localhost:8080/",
          "height": 37
        },
        "outputId": "74fab976-4929-4fe8-cc3d-bd5b2df8a7e9"
      },
      "source": [
        "fitter_patience = Fitter(data=patience_time, distributions=patience_distributions, bins=200, xmax=100)\n",
        "fitter_patience.fit(progress=True)"
      ],
      "execution_count": null,
      "outputs": [
        {
          "output_type": "display_data",
          "data": {
            "text/html": [
              "\n",
              "            <div style=\"float: left; border: 1px solid black; width:500px\">\n",
              "              <div id=\"53babdd1-22e0-4d68-ad5e-ebe8acdbcda0\" style=\"background-color:blue; width:0%\">&nbsp;</div>\n",
              "            </div>\n",
              "            <label id=\"fa9bd073-20ff-46a7-8823-53b005bd0843\" style=\"padding-left: 10px;\" text = \"\"/>\n",
              "            "
            ],
            "text/plain": [
              "<IPython.core.display.HTML object>"
            ]
          },
          "metadata": {
            "tags": []
          }
        },
        {
          "output_type": "display_data",
          "data": {
            "application/javascript": [
              "$('div#53babdd1-22e0-4d68-ad5e-ebe8acdbcda0').width('20%')"
            ],
            "text/plain": [
              "<IPython.core.display.Javascript object>"
            ]
          },
          "metadata": {
            "tags": []
          }
        },
        {
          "output_type": "display_data",
          "data": {
            "application/javascript": [
              "$('label#fa9bd073-20ff-46a7-8823-53b005bd0843').text('20% in 0.5 sec')"
            ],
            "text/plain": [
              "<IPython.core.display.Javascript object>"
            ]
          },
          "metadata": {
            "tags": []
          }
        },
        {
          "output_type": "display_data",
          "data": {
            "application/javascript": [
              "$('div#53babdd1-22e0-4d68-ad5e-ebe8acdbcda0').width('40%')"
            ],
            "text/plain": [
              "<IPython.core.display.Javascript object>"
            ]
          },
          "metadata": {
            "tags": []
          }
        },
        {
          "output_type": "display_data",
          "data": {
            "application/javascript": [
              "$('label#fa9bd073-20ff-46a7-8823-53b005bd0843').text('40% in 0.7 sec')"
            ],
            "text/plain": [
              "<IPython.core.display.Javascript object>"
            ]
          },
          "metadata": {
            "tags": []
          }
        },
        {
          "output_type": "display_data",
          "data": {
            "application/javascript": [
              "$('div#53babdd1-22e0-4d68-ad5e-ebe8acdbcda0').width('60%')"
            ],
            "text/plain": [
              "<IPython.core.display.Javascript object>"
            ]
          },
          "metadata": {
            "tags": []
          }
        },
        {
          "output_type": "display_data",
          "data": {
            "application/javascript": [
              "$('label#fa9bd073-20ff-46a7-8823-53b005bd0843').text('60% in 0.9 sec')"
            ],
            "text/plain": [
              "<IPython.core.display.Javascript object>"
            ]
          },
          "metadata": {
            "tags": []
          }
        },
        {
          "output_type": "display_data",
          "data": {
            "application/javascript": [
              "$('div#53babdd1-22e0-4d68-ad5e-ebe8acdbcda0').width('80%')"
            ],
            "text/plain": [
              "<IPython.core.display.Javascript object>"
            ]
          },
          "metadata": {
            "tags": []
          }
        },
        {
          "output_type": "display_data",
          "data": {
            "application/javascript": [
              "$('label#fa9bd073-20ff-46a7-8823-53b005bd0843').text('80% in 1.2 sec')"
            ],
            "text/plain": [
              "<IPython.core.display.Javascript object>"
            ]
          },
          "metadata": {
            "tags": []
          }
        },
        {
          "output_type": "display_data",
          "data": {
            "application/javascript": [
              "$('div#53babdd1-22e0-4d68-ad5e-ebe8acdbcda0').width('100%')"
            ],
            "text/plain": [
              "<IPython.core.display.Javascript object>"
            ]
          },
          "metadata": {
            "tags": []
          }
        },
        {
          "output_type": "display_data",
          "data": {
            "application/javascript": [
              "$('label#fa9bd073-20ff-46a7-8823-53b005bd0843').text('100% in 1.3 sec')"
            ],
            "text/plain": [
              "<IPython.core.display.Javascript object>"
            ]
          },
          "metadata": {
            "tags": []
          }
        }
      ]
    },
    {
      "cell_type": "code",
      "metadata": {
        "scrolled": false,
        "id": "1ZbyJQfR2mqn",
        "colab": {
          "base_uri": "https://localhost:8080/",
          "height": 467
        },
        "outputId": "b66950c3-e4e5-4b32-8e52-6ee7f4a9909a"
      },
      "source": [
        "print(f\"Summary...\")\n",
        "fitter_patience.summary(Nbest=5)"
      ],
      "execution_count": null,
      "outputs": [
        {
          "output_type": "stream",
          "text": [
            "Summary...\n"
          ],
          "name": "stdout"
        },
        {
          "output_type": "execute_result",
          "data": {
            "text/html": [
              "<div>\n",
              "<style scoped>\n",
              "    .dataframe tbody tr th:only-of-type {\n",
              "        vertical-align: middle;\n",
              "    }\n",
              "\n",
              "    .dataframe tbody tr th {\n",
              "        vertical-align: top;\n",
              "    }\n",
              "\n",
              "    .dataframe thead th {\n",
              "        text-align: right;\n",
              "    }\n",
              "</style>\n",
              "<table border=\"1\" class=\"dataframe\">\n",
              "  <thead>\n",
              "    <tr style=\"text-align: right;\">\n",
              "      <th></th>\n",
              "      <th>sumsquare_error</th>\n",
              "      <th>aic</th>\n",
              "      <th>bic</th>\n",
              "      <th>kl_div</th>\n",
              "    </tr>\n",
              "  </thead>\n",
              "  <tbody>\n",
              "    <tr>\n",
              "      <th>betaprime</th>\n",
              "      <td>0.439728</td>\n",
              "      <td>4555.560963</td>\n",
              "      <td>-448.397093</td>\n",
              "      <td>inf</td>\n",
              "    </tr>\n",
              "    <tr>\n",
              "      <th>f</th>\n",
              "      <td>1.190814</td>\n",
              "      <td>2564.838091</td>\n",
              "      <td>-360.728234</td>\n",
              "      <td>inf</td>\n",
              "    </tr>\n",
              "    <tr>\n",
              "      <th>exponweib</th>\n",
              "      <td>1.235240</td>\n",
              "      <td>2744.244272</td>\n",
              "      <td>-357.504962</td>\n",
              "      <td>inf</td>\n",
              "    </tr>\n",
              "    <tr>\n",
              "      <th>fisk</th>\n",
              "      <td>1.870260</td>\n",
              "      <td>2780.092605</td>\n",
              "      <td>-325.478819</td>\n",
              "      <td>inf</td>\n",
              "    </tr>\n",
              "    <tr>\n",
              "      <th>pareto</th>\n",
              "      <td>2.286840</td>\n",
              "      <td>33058.042218</td>\n",
              "      <td>-307.782591</td>\n",
              "      <td>inf</td>\n",
              "    </tr>\n",
              "  </tbody>\n",
              "</table>\n",
              "</div>"
            ],
            "text/plain": [
              "           sumsquare_error           aic         bic  kl_div\n",
              "betaprime         0.439728   4555.560963 -448.397093     inf\n",
              "f                 1.190814   2564.838091 -360.728234     inf\n",
              "exponweib         1.235240   2744.244272 -357.504962     inf\n",
              "fisk              1.870260   2780.092605 -325.478819     inf\n",
              "pareto            2.286840  33058.042218 -307.782591     inf"
            ]
          },
          "metadata": {
            "tags": []
          },
          "execution_count": 41
        },
        {
          "output_type": "display_data",
          "data": {
            "image/png": "[encoded data removed]",
            "text/plain": [
              "<Figure size 432x288 with 1 Axes>"
            ]
          },
          "metadata": {
            "tags": [],
            "needs_background": "light"
          }
        }
      ]
    },
    {
      "cell_type": "markdown",
      "metadata": {
        "id": "-cLOURWCOT4v"
      },
      "source": [
        "En théorie des probabilités et en statistique, la distribution bêta prime (également appelée distribution bêta inversée ou distribution bêta du second type) est une distribution de probabilité absolument continue définie pour x> 0 avec deux paramètres α et β, ayant la fonction de densité de probabilité:\n",
        "\n",
        "![image.png](data:image/png;base64,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)"
      ]
    },
    {
      "cell_type": "code",
      "metadata": {
        "id": "UaUiWebh2mqp",
        "colab": {
          "base_uri": "https://localhost:8080/"
        },
        "outputId": "38d01dbe-bad6-4e5e-f0fe-32464c2fd335"
      },
      "source": [
        "fitter_patience.get_best()"
      ],
      "execution_count": null,
      "outputs": [
        {
          "output_type": "execute_result",
          "data": {
            "text/plain": [
              "{'betaprime': (0.5332625945681216,\n",
              "  2.1678949944089085,\n",
              "  -3.549319627436445e-29,\n",
              "  1.1570850227455467)}"
            ]
          },
          "metadata": {
            "tags": []
          },
          "execution_count": 42
        }
      ]
    },
    {
      "cell_type": "markdown",
      "metadata": {
        "id": "llKCz1Xm2mqp"
      },
      "source": [
        "# 3. Modéliser la loi des durées de service des agents pour chaque type de service"
      ]
    },
    {
      "cell_type": "markdown",
      "metadata": {
        "id": "cEm2xRRZMjIO"
      },
      "source": [
        "Là, on choisit les clients qui ont été servis par un agent c'est-à-dire ceux dont les temps de service sont non nuls."
      ]
    },
    {
      "cell_type": "code",
      "metadata": {
        "id": "iO3qf64K2mqq"
      },
      "source": [
        "service_time = day[(day['outcome']=='AGENT') & (day['ser_time']!=0)]['ser_time'].values"
      ],
      "execution_count": null,
      "outputs": []
    },
    {
      "cell_type": "code",
      "metadata": {
        "scrolled": true,
        "id": "4NCE7mQv2mqq",
        "colab": {
          "base_uri": "https://localhost:8080/"
        },
        "outputId": "309006a8-ed54-4ed8-c0cb-ed6150c3abca"
      },
      "source": [
        "service_time[:5]"
      ],
      "execution_count": null,
      "outputs": [
        {
          "output_type": "execute_result",
          "data": {
            "text/plain": [
              "array([ 54, 208, 107, 275, 102])"
            ]
          },
          "metadata": {
            "tags": []
          },
          "execution_count": 44
        }
      ]
    },
    {
      "cell_type": "code",
      "metadata": {
        "scrolled": true,
        "id": "RQzN3cHL2mqq",
        "colab": {
          "base_uri": "https://localhost:8080/",
          "height": 37
        },
        "outputId": "06eb111b-3c70-43f1-a6ef-adf570355c49"
      },
      "source": [
        "fitter_service = Fitter(data=service_time, bins=200)\n",
        "fitter_service.fit(progress=True)"
      ],
      "execution_count": null,
      "outputs": [
        {
          "output_type": "display_data",
          "data": {
            "text/html": [
              "\n",
              "            <div style=\"float: left; border: 1px solid black; width:500px\">\n",
              "              <div id=\"a943940e-a920-42f4-b1a4-5df0b7b41370\" style=\"background-color:blue; width:0%\">&nbsp;</div>\n",
              "            </div>\n",
              "            <label id=\"a0603549-1608-4fd0-b08a-5b18869fb1dc\" style=\"padding-left: 10px;\" text = \"\"/>\n",
              "            "
            ],
            "text/plain": [
              "<IPython.core.display.HTML object>"
            ]
          },
          "metadata": {
            "tags": []
          }
        },
        {
          "output_type": "display_data",
          "data": {
            "application/javascript": [
              "$('div#a943940e-a920-42f4-b1a4-5df0b7b41370').width('0%')"
            ],
            "text/plain": [
              "<IPython.core.display.Javascript object>"
            ]
          },
          "metadata": {
            "tags": []
          }
        },
        {
          "output_type": "display_data",
          "data": {
            "application/javascript": [
              "$('label#a0603549-1608-4fd0-b08a-5b18869fb1dc').text('0% in 0.1 sec')"
            ],
            "text/plain": [
              "<IPython.core.display.Javascript object>"
            ]
          },
          "metadata": {
            "tags": []
          }
        },
        {
          "output_type": "display_data",
          "data": {
            "application/javascript": [
              "$('div#a943940e-a920-42f4-b1a4-5df0b7b41370').width('1%')"
            ],
            "text/plain": [
              "<IPython.core.display.Javascript object>"
            ]
          },
          "metadata": {
            "tags": []
          }
        },
        {
          "output_type": "display_data",
          "data": {
            "application/javascript": [
              "$('label#a0603549-1608-4fd0-b08a-5b18869fb1dc').text('1% in 0.2 sec')"
            ],
            "text/plain": [
              "<IPython.core.display.Javascript object>"
            ]
          },
          "metadata": {
            "tags": []
          }
        },
        {
          "output_type": "display_data",
          "data": {
            "application/javascript": [
              "$('div#a943940e-a920-42f4-b1a4-5df0b7b41370').width('2%')"
            ],
            "text/plain": [
              "<IPython.core.display.Javascript object>"
            ]
          },
          "metadata": {
            "tags": []
          }
        },
        {
          "output_type": "display_data",
          "data": {
            "application/javascript": [
              "$('label#a0603549-1608-4fd0-b08a-5b18869fb1dc').text('2% in 0.7 sec')"
            ],
            "text/plain": [
              "<IPython.core.display.Javascript object>"
            ]
          },
          "metadata": {
            "tags": []
          }
        },
        {
          "output_type": "display_data",
          "data": {
            "application/javascript": [
              "$('div#a943940e-a920-42f4-b1a4-5df0b7b41370').width('3%')"
            ],
            "text/plain": [
              "<IPython.core.display.Javascript object>"
            ]
          },
          "metadata": {
            "tags": []
          }
        },
        {
          "output_type": "display_data",
          "data": {
            "application/javascript": [
              "$('label#a0603549-1608-4fd0-b08a-5b18869fb1dc').text('3% in 2.5 sec')"
            ],
            "text/plain": [
              "<IPython.core.display.Javascript object>"
            ]
          },
          "metadata": {
            "tags": []
          }
        },
        {
          "output_type": "display_data",
          "data": {
            "application/javascript": [
              "$('div#a943940e-a920-42f4-b1a4-5df0b7b41370').width('4%')"
            ],
            "text/plain": [
              "<IPython.core.display.Javascript object>"
            ]
          },
          "metadata": {
            "tags": []
          }
        },
        {
          "output_type": "display_data",
          "data": {
            "application/javascript": [
              "$('label#a0603549-1608-4fd0-b08a-5b18869fb1dc').text('4% in 2.6 sec')"
            ],
            "text/plain": [
              "<IPython.core.display.Javascript object>"
            ]
          },
          "metadata": {
            "tags": []
          }
        },
        {
          "output_type": "display_data",
          "data": {
            "application/javascript": [
              "$('div#a943940e-a920-42f4-b1a4-5df0b7b41370').width('5%')"
            ],
            "text/plain": [
              "<IPython.core.display.Javascript object>"
            ]
          },
          "metadata": {
            "tags": []
          }
        },
        {
          "output_type": "display_data",
          "data": {
            "application/javascript": [
              "$('label#a0603549-1608-4fd0-b08a-5b18869fb1dc').text('5% in 2.8 sec')"
            ],
            "text/plain": [
              "<IPython.core.display.Javascript object>"
            ]
          },
          "metadata": {
            "tags": []
          }
        },
        {
          "output_type": "display_data",
          "data": {
            "application/javascript": [
              "$('div#a943940e-a920-42f4-b1a4-5df0b7b41370').width('6%')"
            ],
            "text/plain": [
              "<IPython.core.display.Javascript object>"
            ]
          },
          "metadata": {
            "tags": []
          }
        },
        {
          "output_type": "display_data",
          "data": {
            "application/javascript": [
              "$('label#a0603549-1608-4fd0-b08a-5b18869fb1dc').text('6% in 2.9 sec')"
            ],
            "text/plain": [
              "<IPython.core.display.Javascript object>"
            ]
          },
          "metadata": {
            "tags": []
          }
        },
        {
          "output_type": "display_data",
          "data": {
            "application/javascript": [
              "$('div#a943940e-a920-42f4-b1a4-5df0b7b41370').width('7%')"
            ],
            "text/plain": [
              "<IPython.core.display.Javascript object>"
            ]
          },
          "metadata": {
            "tags": []
          }
        },
        {
          "output_type": "display_data",
          "data": {
            "application/javascript": [
              "$('label#a0603549-1608-4fd0-b08a-5b18869fb1dc').text('7% in 3.2 sec')"
            ],
            "text/plain": [
              "<IPython.core.display.Javascript object>"
            ]
          },
          "metadata": {
            "tags": []
          }
        },
        {
          "output_type": "display_data",
          "data": {
            "application/javascript": [
              "$('div#a943940e-a920-42f4-b1a4-5df0b7b41370').width('8%')"
            ],
            "text/plain": [
              "<IPython.core.display.Javascript object>"
            ]
          },
          "metadata": {
            "tags": []
          }
        },
        {
          "output_type": "display_data",
          "data": {
            "application/javascript": [
              "$('label#a0603549-1608-4fd0-b08a-5b18869fb1dc').text('8% in 3.2 sec')"
            ],
            "text/plain": [
              "<IPython.core.display.Javascript object>"
            ]
          },
          "metadata": {
            "tags": []
          }
        },
        {
          "output_type": "display_data",
          "data": {
            "application/javascript": [
              "$('div#a943940e-a920-42f4-b1a4-5df0b7b41370').width('9%')"
            ],
            "text/plain": [
              "<IPython.core.display.Javascript object>"
            ]
          },
          "metadata": {
            "tags": []
          }
        },
        {
          "output_type": "display_data",
          "data": {
            "application/javascript": [
              "$('label#a0603549-1608-4fd0-b08a-5b18869fb1dc').text('9% in 3.4 sec')"
            ],
            "text/plain": [
              "<IPython.core.display.Javascript object>"
            ]
          },
          "metadata": {
            "tags": []
          }
        },
        {
          "output_type": "display_data",
          "data": {
            "application/javascript": [
              "$('div#a943940e-a920-42f4-b1a4-5df0b7b41370').width('10%')"
            ],
            "text/plain": [
              "<IPython.core.display.Javascript object>"
            ]
          },
          "metadata": {
            "tags": []
          }
        },
        {
          "output_type": "display_data",
          "data": {
            "application/javascript": [
              "$('label#a0603549-1608-4fd0-b08a-5b18869fb1dc').text('10% in 3.6 sec')"
            ],
            "text/plain": [
              "<IPython.core.display.Javascript object>"
            ]
          },
          "metadata": {
            "tags": []
          }
        },
        {
          "output_type": "display_data",
          "data": {
            "application/javascript": [
              "$('div#a943940e-a920-42f4-b1a4-5df0b7b41370').width('11%')"
            ],
            "text/plain": [
              "<IPython.core.display.Javascript object>"
            ]
          },
          "metadata": {
            "tags": []
          }
        },
        {
          "output_type": "display_data",
          "data": {
            "application/javascript": [
              "$('label#a0603549-1608-4fd0-b08a-5b18869fb1dc').text('11% in 3.7 sec')"
            ],
            "text/plain": [
              "<IPython.core.display.Javascript object>"
            ]
          },
          "metadata": {
            "tags": []
          }
        },
        {
          "output_type": "display_data",
          "data": {
            "application/javascript": [
              "$('div#a943940e-a920-42f4-b1a4-5df0b7b41370').width('12%')"
            ],
            "text/plain": [
              "<IPython.core.display.Javascript object>"
            ]
          },
          "metadata": {
            "tags": []
          }
        },
        {
          "output_type": "display_data",
          "data": {
            "application/javascript": [
              "$('label#a0603549-1608-4fd0-b08a-5b18869fb1dc').text('12% in 4.1 sec')"
            ],
            "text/plain": [
              "<IPython.core.display.Javascript object>"
            ]
          },
          "metadata": {
            "tags": []
          }
        },
        {
          "output_type": "display_data",
          "data": {
            "application/javascript": [
              "$('div#a943940e-a920-42f4-b1a4-5df0b7b41370').width('13%')"
            ],
            "text/plain": [
              "<IPython.core.display.Javascript object>"
            ]
          },
          "metadata": {
            "tags": []
          }
        },
        {
          "output_type": "display_data",
          "data": {
            "application/javascript": [
              "$('label#a0603549-1608-4fd0-b08a-5b18869fb1dc').text('13% in 4.2 sec')"
            ],
            "text/plain": [
              "<IPython.core.display.Javascript object>"
            ]
          },
          "metadata": {
            "tags": []
          }
        },
        {
          "output_type": "display_data",
          "data": {
            "application/javascript": [
              "$('div#a943940e-a920-42f4-b1a4-5df0b7b41370').width('14%')"
            ],
            "text/plain": [
              "<IPython.core.display.Javascript object>"
            ]
          },
          "metadata": {
            "tags": []
          }
        },
        {
          "output_type": "display_data",
          "data": {
            "application/javascript": [
              "$('label#a0603549-1608-4fd0-b08a-5b18869fb1dc').text('14% in 4.3 sec')"
            ],
            "text/plain": [
              "<IPython.core.display.Javascript object>"
            ]
          },
          "metadata": {
            "tags": []
          }
        },
        {
          "output_type": "display_data",
          "data": {
            "application/javascript": [
              "$('div#a943940e-a920-42f4-b1a4-5df0b7b41370').width('15%')"
            ],
            "text/plain": [
              "<IPython.core.display.Javascript object>"
            ]
          },
          "metadata": {
            "tags": []
          }
        },
        {
          "output_type": "display_data",
          "data": {
            "application/javascript": [
              "$('label#a0603549-1608-4fd0-b08a-5b18869fb1dc').text('15% in 4.5 sec')"
            ],
            "text/plain": [
              "<IPython.core.display.Javascript object>"
            ]
          },
          "metadata": {
            "tags": []
          }
        },
        {
          "output_type": "display_data",
          "data": {
            "application/javascript": [
              "$('div#a943940e-a920-42f4-b1a4-5df0b7b41370').width('16%')"
            ],
            "text/plain": [
              "<IPython.core.display.Javascript object>"
            ]
          },
          "metadata": {
            "tags": []
          }
        },
        {
          "output_type": "display_data",
          "data": {
            "application/javascript": [
              "$('label#a0603549-1608-4fd0-b08a-5b18869fb1dc').text('16% in 4.6 sec')"
            ],
            "text/plain": [
              "<IPython.core.display.Javascript object>"
            ]
          },
          "metadata": {
            "tags": []
          }
        },
        {
          "output_type": "display_data",
          "data": {
            "application/javascript": [
              "$('div#a943940e-a920-42f4-b1a4-5df0b7b41370').width('17%')"
            ],
            "text/plain": [
              "<IPython.core.display.Javascript object>"
            ]
          },
          "metadata": {
            "tags": []
          }
        },
        {
          "output_type": "display_data",
          "data": {
            "application/javascript": [
              "$('label#a0603549-1608-4fd0-b08a-5b18869fb1dc').text('17% in 4.7 sec')"
            ],
            "text/plain": [
              "<IPython.core.display.Javascript object>"
            ]
          },
          "metadata": {
            "tags": []
          }
        },
        {
          "output_type": "display_data",
          "data": {
            "application/javascript": [
              "$('div#a943940e-a920-42f4-b1a4-5df0b7b41370').width('18%')"
            ],
            "text/plain": [
              "<IPython.core.display.Javascript object>"
            ]
          },
          "metadata": {
            "tags": []
          }
        },
        {
          "output_type": "display_data",
          "data": {
            "application/javascript": [
              "$('label#a0603549-1608-4fd0-b08a-5b18869fb1dc').text('18% in 4.9 sec')"
            ],
            "text/plain": [
              "<IPython.core.display.Javascript object>"
            ]
          },
          "metadata": {
            "tags": []
          }
        },
        {
          "output_type": "display_data",
          "data": {
            "application/javascript": [
              "$('div#a943940e-a920-42f4-b1a4-5df0b7b41370').width('19%')"
            ],
            "text/plain": [
              "<IPython.core.display.Javascript object>"
            ]
          },
          "metadata": {
            "tags": []
          }
        },
        {
          "output_type": "display_data",
          "data": {
            "application/javascript": [
              "$('label#a0603549-1608-4fd0-b08a-5b18869fb1dc').text('19% in 5.5 sec')"
            ],
            "text/plain": [
              "<IPython.core.display.Javascript object>"
            ]
          },
          "metadata": {
            "tags": []
          }
        },
        {
          "output_type": "display_data",
          "data": {
            "application/javascript": [
              "$('div#a943940e-a920-42f4-b1a4-5df0b7b41370').width('20%')"
            ],
            "text/plain": [
              "<IPython.core.display.Javascript object>"
            ]
          },
          "metadata": {
            "tags": []
          }
        },
        {
          "output_type": "display_data",
          "data": {
            "application/javascript": [
              "$('label#a0603549-1608-4fd0-b08a-5b18869fb1dc').text('20% in 5.8 sec')"
            ],
            "text/plain": [
              "<IPython.core.display.Javascript object>"
            ]
          },
          "metadata": {
            "tags": []
          }
        },
        {
          "output_type": "display_data",
          "data": {
            "application/javascript": [
              "$('div#a943940e-a920-42f4-b1a4-5df0b7b41370').width('21%')"
            ],
            "text/plain": [
              "<IPython.core.display.Javascript object>"
            ]
          },
          "metadata": {
            "tags": []
          }
        },
        {
          "output_type": "display_data",
          "data": {
            "application/javascript": [
              "$('label#a0603549-1608-4fd0-b08a-5b18869fb1dc').text('21% in 5.8 sec')"
            ],
            "text/plain": [
              "<IPython.core.display.Javascript object>"
            ]
          },
          "metadata": {
            "tags": []
          }
        },
        {
          "output_type": "display_data",
          "data": {
            "application/javascript": [
              "$('div#a943940e-a920-42f4-b1a4-5df0b7b41370').width('22%')"
            ],
            "text/plain": [
              "<IPython.core.display.Javascript object>"
            ]
          },
          "metadata": {
            "tags": []
          }
        },
        {
          "output_type": "display_data",
          "data": {
            "application/javascript": [
              "$('label#a0603549-1608-4fd0-b08a-5b18869fb1dc').text('22% in 5.8 sec')"
            ],
            "text/plain": [
              "<IPython.core.display.Javascript object>"
            ]
          },
          "metadata": {
            "tags": []
          }
        },
        {
          "output_type": "display_data",
          "data": {
            "application/javascript": [
              "$('div#a943940e-a920-42f4-b1a4-5df0b7b41370').width('23%')"
            ],
            "text/plain": [
              "<IPython.core.display.Javascript object>"
            ]
          },
          "metadata": {
            "tags": []
          }
        },
        {
          "output_type": "display_data",
          "data": {
            "application/javascript": [
              "$('label#a0603549-1608-4fd0-b08a-5b18869fb1dc').text('23% in 6.0 sec')"
            ],
            "text/plain": [
              "<IPython.core.display.Javascript object>"
            ]
          },
          "metadata": {
            "tags": []
          }
        },
        {
          "output_type": "display_data",
          "data": {
            "application/javascript": [
              "$('div#a943940e-a920-42f4-b1a4-5df0b7b41370').width('24%')"
            ],
            "text/plain": [
              "<IPython.core.display.Javascript object>"
            ]
          },
          "metadata": {
            "tags": []
          }
        },
        {
          "output_type": "display_data",
          "data": {
            "application/javascript": [
              "$('label#a0603549-1608-4fd0-b08a-5b18869fb1dc').text('24% in 6.1 sec')"
            ],
            "text/plain": [
              "<IPython.core.display.Javascript object>"
            ]
          },
          "metadata": {
            "tags": []
          }
        },
        {
          "output_type": "display_data",
          "data": {
            "application/javascript": [
              "$('div#a943940e-a920-42f4-b1a4-5df0b7b41370').width('25%')"
            ],
            "text/plain": [
              "<IPython.core.display.Javascript object>"
            ]
          },
          "metadata": {
            "tags": []
          }
        },
        {
          "output_type": "display_data",
          "data": {
            "application/javascript": [
              "$('label#a0603549-1608-4fd0-b08a-5b18869fb1dc').text('25% in 6.3 sec')"
            ],
            "text/plain": [
              "<IPython.core.display.Javascript object>"
            ]
          },
          "metadata": {
            "tags": []
          }
        },
        {
          "output_type": "display_data",
          "data": {
            "application/javascript": [
              "$('div#a943940e-a920-42f4-b1a4-5df0b7b41370').width('26%')"
            ],
            "text/plain": [
              "<IPython.core.display.Javascript object>"
            ]
          },
          "metadata": {
            "tags": []
          }
        },
        {
          "output_type": "display_data",
          "data": {
            "application/javascript": [
              "$('label#a0603549-1608-4fd0-b08a-5b18869fb1dc').text('26% in 6.5 sec')"
            ],
            "text/plain": [
              "<IPython.core.display.Javascript object>"
            ]
          },
          "metadata": {
            "tags": []
          }
        },
        {
          "output_type": "display_data",
          "data": {
            "application/javascript": [
              "$('div#a943940e-a920-42f4-b1a4-5df0b7b41370').width('27%')"
            ],
            "text/plain": [
              "<IPython.core.display.Javascript object>"
            ]
          },
          "metadata": {
            "tags": []
          }
        },
        {
          "output_type": "display_data",
          "data": {
            "application/javascript": [
              "$('label#a0603549-1608-4fd0-b08a-5b18869fb1dc').text('27% in 6.6 sec')"
            ],
            "text/plain": [
              "<IPython.core.display.Javascript object>"
            ]
          },
          "metadata": {
            "tags": []
          }
        },
        {
          "output_type": "display_data",
          "data": {
            "application/javascript": [
              "$('div#a943940e-a920-42f4-b1a4-5df0b7b41370').width('28%')"
            ],
            "text/plain": [
              "<IPython.core.display.Javascript object>"
            ]
          },
          "metadata": {
            "tags": []
          }
        },
        {
          "output_type": "display_data",
          "data": {
            "application/javascript": [
              "$('label#a0603549-1608-4fd0-b08a-5b18869fb1dc').text('28% in 6.8 sec')"
            ],
            "text/plain": [
              "<IPython.core.display.Javascript object>"
            ]
          },
          "metadata": {
            "tags": []
          }
        },
        {
          "output_type": "display_data",
          "data": {
            "application/javascript": [
              "$('div#a943940e-a920-42f4-b1a4-5df0b7b41370').width('29%')"
            ],
            "text/plain": [
              "<IPython.core.display.Javascript object>"
            ]
          },
          "metadata": {
            "tags": []
          }
        },
        {
          "output_type": "display_data",
          "data": {
            "application/javascript": [
              "$('label#a0603549-1608-4fd0-b08a-5b18869fb1dc').text('29% in 10.2 sec')"
            ],
            "text/plain": [
              "<IPython.core.display.Javascript object>"
            ]
          },
          "metadata": {
            "tags": []
          }
        },
        {
          "output_type": "display_data",
          "data": {
            "application/javascript": [
              "$('div#a943940e-a920-42f4-b1a4-5df0b7b41370').width('30%')"
            ],
            "text/plain": [
              "<IPython.core.display.Javascript object>"
            ]
          },
          "metadata": {
            "tags": []
          }
        },
        {
          "output_type": "display_data",
          "data": {
            "application/javascript": [
              "$('label#a0603549-1608-4fd0-b08a-5b18869fb1dc').text('30% in 10.4 sec')"
            ],
            "text/plain": [
              "<IPython.core.display.Javascript object>"
            ]
          },
          "metadata": {
            "tags": []
          }
        },
        {
          "output_type": "display_data",
          "data": {
            "application/javascript": [
              "$('div#a943940e-a920-42f4-b1a4-5df0b7b41370').width('31%')"
            ],
            "text/plain": [
              "<IPython.core.display.Javascript object>"
            ]
          },
          "metadata": {
            "tags": []
          }
        },
        {
          "output_type": "display_data",
          "data": {
            "application/javascript": [
              "$('label#a0603549-1608-4fd0-b08a-5b18869fb1dc').text('31% in 10.7 sec')"
            ],
            "text/plain": [
              "<IPython.core.display.Javascript object>"
            ]
          },
          "metadata": {
            "tags": []
          }
        },
        {
          "output_type": "display_data",
          "data": {
            "application/javascript": [
              "$('div#a943940e-a920-42f4-b1a4-5df0b7b41370').width('32%')"
            ],
            "text/plain": [
              "<IPython.core.display.Javascript object>"
            ]
          },
          "metadata": {
            "tags": []
          }
        },
        {
          "output_type": "display_data",
          "data": {
            "application/javascript": [
              "$('label#a0603549-1608-4fd0-b08a-5b18869fb1dc').text('32% in 10.8 sec')"
            ],
            "text/plain": [
              "<IPython.core.display.Javascript object>"
            ]
          },
          "metadata": {
            "tags": []
          }
        },
        {
          "output_type": "display_data",
          "data": {
            "application/javascript": [
              "$('div#a943940e-a920-42f4-b1a4-5df0b7b41370').width('33%')"
            ],
            "text/plain": [
              "<IPython.core.display.Javascript object>"
            ]
          },
          "metadata": {
            "tags": []
          }
        },
        {
          "output_type": "display_data",
          "data": {
            "application/javascript": [
              "$('label#a0603549-1608-4fd0-b08a-5b18869fb1dc').text('33% in 11.3 sec')"
            ],
            "text/plain": [
              "<IPython.core.display.Javascript object>"
            ]
          },
          "metadata": {
            "tags": []
          }
        },
        {
          "output_type": "display_data",
          "data": {
            "application/javascript": [
              "$('div#a943940e-a920-42f4-b1a4-5df0b7b41370').width('34%')"
            ],
            "text/plain": [
              "<IPython.core.display.Javascript object>"
            ]
          },
          "metadata": {
            "tags": []
          }
        },
        {
          "output_type": "display_data",
          "data": {
            "application/javascript": [
              "$('label#a0603549-1608-4fd0-b08a-5b18869fb1dc').text('34% in 11.4 sec')"
            ],
            "text/plain": [
              "<IPython.core.display.Javascript object>"
            ]
          },
          "metadata": {
            "tags": []
          }
        },
        {
          "output_type": "display_data",
          "data": {
            "application/javascript": [
              "$('div#a943940e-a920-42f4-b1a4-5df0b7b41370').width('35%')"
            ],
            "text/plain": [
              "<IPython.core.display.Javascript object>"
            ]
          },
          "metadata": {
            "tags": []
          }
        },
        {
          "output_type": "display_data",
          "data": {
            "application/javascript": [
              "$('div#a943940e-a920-42f4-b1a4-5df0b7b41370').width('36%')"
            ],
            "text/plain": [
              "<IPython.core.display.Javascript object>"
            ]
          },
          "metadata": {
            "tags": []
          }
        },
        {
          "output_type": "display_data",
          "data": {
            "application/javascript": [
              "$('label#a0603549-1608-4fd0-b08a-5b18869fb1dc').text('35% in 11.5 sec')"
            ],
            "text/plain": [
              "<IPython.core.display.Javascript object>"
            ]
          },
          "metadata": {
            "tags": []
          }
        },
        {
          "output_type": "display_data",
          "data": {
            "application/javascript": [
              "$('label#a0603549-1608-4fd0-b08a-5b18869fb1dc').text('36% in 11.5 sec')"
            ],
            "text/plain": [
              "<IPython.core.display.Javascript object>"
            ]
          },
          "metadata": {
            "tags": []
          }
        },
        {
          "output_type": "display_data",
          "data": {
            "application/javascript": [
              "$('div#a943940e-a920-42f4-b1a4-5df0b7b41370').width('37%')"
            ],
            "text/plain": [
              "<IPython.core.display.Javascript object>"
            ]
          },
          "metadata": {
            "tags": []
          }
        },
        {
          "output_type": "display_data",
          "data": {
            "application/javascript": [
              "$('label#a0603549-1608-4fd0-b08a-5b18869fb1dc').text('37% in 11.7 sec')"
            ],
            "text/plain": [
              "<IPython.core.display.Javascript object>"
            ]
          },
          "metadata": {
            "tags": []
          }
        },
        {
          "output_type": "display_data",
          "data": {
            "application/javascript": [
              "$('div#a943940e-a920-42f4-b1a4-5df0b7b41370').width('38%')"
            ],
            "text/plain": [
              "<IPython.core.display.Javascript object>"
            ]
          },
          "metadata": {
            "tags": []
          }
        },
        {
          "output_type": "display_data",
          "data": {
            "application/javascript": [
              "$('label#a0603549-1608-4fd0-b08a-5b18869fb1dc').text('38% in 12.1 sec')"
            ],
            "text/plain": [
              "<IPython.core.display.Javascript object>"
            ]
          },
          "metadata": {
            "tags": []
          }
        },
        {
          "output_type": "display_data",
          "data": {
            "application/javascript": [
              "$('div#a943940e-a920-42f4-b1a4-5df0b7b41370').width('39%')"
            ],
            "text/plain": [
              "<IPython.core.display.Javascript object>"
            ]
          },
          "metadata": {
            "tags": []
          }
        },
        {
          "output_type": "display_data",
          "data": {
            "application/javascript": [
              "$('label#a0603549-1608-4fd0-b08a-5b18869fb1dc').text('39% in 12.1 sec')"
            ],
            "text/plain": [
              "<IPython.core.display.Javascript object>"
            ]
          },
          "metadata": {
            "tags": []
          }
        },
        {
          "output_type": "display_data",
          "data": {
            "application/javascript": [
              "$('div#a943940e-a920-42f4-b1a4-5df0b7b41370').width('40%')"
            ],
            "text/plain": [
              "<IPython.core.display.Javascript object>"
            ]
          },
          "metadata": {
            "tags": []
          }
        },
        {
          "output_type": "display_data",
          "data": {
            "application/javascript": [
              "$('label#a0603549-1608-4fd0-b08a-5b18869fb1dc').text('40% in 12.1 sec')"
            ],
            "text/plain": [
              "<IPython.core.display.Javascript object>"
            ]
          },
          "metadata": {
            "tags": []
          }
        },
        {
          "output_type": "display_data",
          "data": {
            "application/javascript": [
              "$('div#a943940e-a920-42f4-b1a4-5df0b7b41370').width('41%')"
            ],
            "text/plain": [
              "<IPython.core.display.Javascript object>"
            ]
          },
          "metadata": {
            "tags": []
          }
        },
        {
          "output_type": "display_data",
          "data": {
            "application/javascript": [
              "$('label#a0603549-1608-4fd0-b08a-5b18869fb1dc').text('41% in 12.2 sec')"
            ],
            "text/plain": [
              "<IPython.core.display.Javascript object>"
            ]
          },
          "metadata": {
            "tags": []
          }
        },
        {
          "output_type": "display_data",
          "data": {
            "application/javascript": [
              "$('div#a943940e-a920-42f4-b1a4-5df0b7b41370').width('42%')"
            ],
            "text/plain": [
              "<IPython.core.display.Javascript object>"
            ]
          },
          "metadata": {
            "tags": []
          }
        },
        {
          "output_type": "display_data",
          "data": {
            "application/javascript": [
              "$('label#a0603549-1608-4fd0-b08a-5b18869fb1dc').text('42% in 12.2 sec')"
            ],
            "text/plain": [
              "<IPython.core.display.Javascript object>"
            ]
          },
          "metadata": {
            "tags": []
          }
        },
        {
          "output_type": "display_data",
          "data": {
            "application/javascript": [
              "$('div#a943940e-a920-42f4-b1a4-5df0b7b41370').width('43%')"
            ],
            "text/plain": [
              "<IPython.core.display.Javascript object>"
            ]
          },
          "metadata": {
            "tags": []
          }
        },
        {
          "output_type": "display_data",
          "data": {
            "application/javascript": [
              "$('label#a0603549-1608-4fd0-b08a-5b18869fb1dc').text('43% in 12.5 sec')"
            ],
            "text/plain": [
              "<IPython.core.display.Javascript object>"
            ]
          },
          "metadata": {
            "tags": []
          }
        },
        {
          "output_type": "display_data",
          "data": {
            "application/javascript": [
              "$('div#a943940e-a920-42f4-b1a4-5df0b7b41370').width('44%')"
            ],
            "text/plain": [
              "<IPython.core.display.Javascript object>"
            ]
          },
          "metadata": {
            "tags": []
          }
        },
        {
          "output_type": "display_data",
          "data": {
            "application/javascript": [
              "$('label#a0603549-1608-4fd0-b08a-5b18869fb1dc').text('44% in 12.6 sec')"
            ],
            "text/plain": [
              "<IPython.core.display.Javascript object>"
            ]
          },
          "metadata": {
            "tags": []
          }
        },
        {
          "output_type": "display_data",
          "data": {
            "application/javascript": [
              "$('div#a943940e-a920-42f4-b1a4-5df0b7b41370').width('45%')"
            ],
            "text/plain": [
              "<IPython.core.display.Javascript object>"
            ]
          },
          "metadata": {
            "tags": []
          }
        },
        {
          "output_type": "display_data",
          "data": {
            "application/javascript": [
              "$('div#a943940e-a920-42f4-b1a4-5df0b7b41370').width('46%')"
            ],
            "text/plain": [
              "<IPython.core.display.Javascript object>"
            ]
          },
          "metadata": {
            "tags": []
          }
        },
        {
          "output_type": "display_data",
          "data": {
            "application/javascript": [
              "$('label#a0603549-1608-4fd0-b08a-5b18869fb1dc').text('46% in 12.7 sec')"
            ],
            "text/plain": [
              "<IPython.core.display.Javascript object>"
            ]
          },
          "metadata": {
            "tags": []
          }
        },
        {
          "output_type": "display_data",
          "data": {
            "application/javascript": [
              "$('label#a0603549-1608-4fd0-b08a-5b18869fb1dc').text('45% in 12.7 sec')"
            ],
            "text/plain": [
              "<IPython.core.display.Javascript object>"
            ]
          },
          "metadata": {
            "tags": []
          }
        },
        {
          "output_type": "display_data",
          "data": {
            "application/javascript": [
              "$('div#a943940e-a920-42f4-b1a4-5df0b7b41370').width('47%')"
            ],
            "text/plain": [
              "<IPython.core.display.Javascript object>"
            ]
          },
          "metadata": {
            "tags": []
          }
        },
        {
          "output_type": "display_data",
          "data": {
            "application/javascript": [
              "$('label#a0603549-1608-4fd0-b08a-5b18869fb1dc').text('47% in 12.8 sec')"
            ],
            "text/plain": [
              "<IPython.core.display.Javascript object>"
            ]
          },
          "metadata": {
            "tags": []
          }
        },
        {
          "output_type": "display_data",
          "data": {
            "application/javascript": [
              "$('div#a943940e-a920-42f4-b1a4-5df0b7b41370').width('48%')"
            ],
            "text/plain": [
              "<IPython.core.display.Javascript object>"
            ]
          },
          "metadata": {
            "tags": []
          }
        },
        {
          "output_type": "display_data",
          "data": {
            "application/javascript": [
              "$('label#a0603549-1608-4fd0-b08a-5b18869fb1dc').text('48% in 12.9 sec')"
            ],
            "text/plain": [
              "<IPython.core.display.Javascript object>"
            ]
          },
          "metadata": {
            "tags": []
          }
        },
        {
          "output_type": "display_data",
          "data": {
            "application/javascript": [
              "$('div#a943940e-a920-42f4-b1a4-5df0b7b41370').width('49%')"
            ],
            "text/plain": [
              "<IPython.core.display.Javascript object>"
            ]
          },
          "metadata": {
            "tags": []
          }
        },
        {
          "output_type": "display_data",
          "data": {
            "application/javascript": [
              "$('label#a0603549-1608-4fd0-b08a-5b18869fb1dc').text('49% in 13.3 sec')"
            ],
            "text/plain": [
              "<IPython.core.display.Javascript object>"
            ]
          },
          "metadata": {
            "tags": []
          }
        },
        {
          "output_type": "display_data",
          "data": {
            "application/javascript": [
              "$('div#a943940e-a920-42f4-b1a4-5df0b7b41370').width('50%')"
            ],
            "text/plain": [
              "<IPython.core.display.Javascript object>"
            ]
          },
          "metadata": {
            "tags": []
          }
        },
        {
          "output_type": "display_data",
          "data": {
            "application/javascript": [
              "$('label#a0603549-1608-4fd0-b08a-5b18869fb1dc').text('50% in 14.3 sec')"
            ],
            "text/plain": [
              "<IPython.core.display.Javascript object>"
            ]
          },
          "metadata": {
            "tags": []
          }
        },
        {
          "output_type": "display_data",
          "data": {
            "application/javascript": [
              "$('div#a943940e-a920-42f4-b1a4-5df0b7b41370').width('50%')"
            ],
            "text/plain": [
              "<IPython.core.display.Javascript object>"
            ]
          },
          "metadata": {
            "tags": []
          }
        },
        {
          "output_type": "display_data",
          "data": {
            "application/javascript": [
              "$('label#a0603549-1608-4fd0-b08a-5b18869fb1dc').text('50% in 14.5 sec')"
            ],
            "text/plain": [
              "<IPython.core.display.Javascript object>"
            ]
          },
          "metadata": {
            "tags": []
          }
        },
        {
          "output_type": "display_data",
          "data": {
            "application/javascript": [
              "$('div#a943940e-a920-42f4-b1a4-5df0b7b41370').width('51%')"
            ],
            "text/plain": [
              "<IPython.core.display.Javascript object>"
            ]
          },
          "metadata": {
            "tags": []
          }
        },
        {
          "output_type": "display_data",
          "data": {
            "application/javascript": [
              "$('label#a0603549-1608-4fd0-b08a-5b18869fb1dc').text('51% in 14.7 sec')"
            ],
            "text/plain": [
              "<IPython.core.display.Javascript object>"
            ]
          },
          "metadata": {
            "tags": []
          }
        },
        {
          "output_type": "display_data",
          "data": {
            "application/javascript": [
              "$('div#a943940e-a920-42f4-b1a4-5df0b7b41370').width('52%')"
            ],
            "text/plain": [
              "<IPython.core.display.Javascript object>"
            ]
          },
          "metadata": {
            "tags": []
          }
        },
        {
          "output_type": "display_data",
          "data": {
            "application/javascript": [
              "$('label#a0603549-1608-4fd0-b08a-5b18869fb1dc').text('52% in 15.0 sec')"
            ],
            "text/plain": [
              "<IPython.core.display.Javascript object>"
            ]
          },
          "metadata": {
            "tags": []
          }
        },
        {
          "output_type": "display_data",
          "data": {
            "application/javascript": [
              "$('div#a943940e-a920-42f4-b1a4-5df0b7b41370').width('53%')"
            ],
            "text/plain": [
              "<IPython.core.display.Javascript object>"
            ]
          },
          "metadata": {
            "tags": []
          }
        },
        {
          "output_type": "display_data",
          "data": {
            "application/javascript": [
              "$('label#a0603549-1608-4fd0-b08a-5b18869fb1dc').text('53% in 15.5 sec')"
            ],
            "text/plain": [
              "<IPython.core.display.Javascript object>"
            ]
          },
          "metadata": {
            "tags": []
          }
        },
        {
          "output_type": "display_data",
          "data": {
            "application/javascript": [
              "$('div#a943940e-a920-42f4-b1a4-5df0b7b41370').width('54%')"
            ],
            "text/plain": [
              "<IPython.core.display.Javascript object>"
            ]
          },
          "metadata": {
            "tags": []
          }
        },
        {
          "output_type": "display_data",
          "data": {
            "application/javascript": [
              "$('label#a0603549-1608-4fd0-b08a-5b18869fb1dc').text('54% in 15.5 sec')"
            ],
            "text/plain": [
              "<IPython.core.display.Javascript object>"
            ]
          },
          "metadata": {
            "tags": []
          }
        },
        {
          "output_type": "display_data",
          "data": {
            "application/javascript": [
              "$('div#a943940e-a920-42f4-b1a4-5df0b7b41370').width('55%')"
            ],
            "text/plain": [
              "<IPython.core.display.Javascript object>"
            ]
          },
          "metadata": {
            "tags": []
          }
        },
        {
          "output_type": "display_data",
          "data": {
            "application/javascript": [
              "$('label#a0603549-1608-4fd0-b08a-5b18869fb1dc').text('55% in 15.6 sec')"
            ],
            "text/plain": [
              "<IPython.core.display.Javascript object>"
            ]
          },
          "metadata": {
            "tags": []
          }
        },
        {
          "output_type": "display_data",
          "data": {
            "application/javascript": [
              "$('div#a943940e-a920-42f4-b1a4-5df0b7b41370').width('56%')"
            ],
            "text/plain": [
              "<IPython.core.display.Javascript object>"
            ]
          },
          "metadata": {
            "tags": []
          }
        },
        {
          "output_type": "display_data",
          "data": {
            "application/javascript": [
              "$('label#a0603549-1608-4fd0-b08a-5b18869fb1dc').text('56% in 15.6 sec')"
            ],
            "text/plain": [
              "<IPython.core.display.Javascript object>"
            ]
          },
          "metadata": {
            "tags": []
          }
        }
      ]
    },
    {
      "cell_type": "code",
      "metadata": {
        "scrolled": false,
        "id": "xZhk2pOU2mqr"
      },
      "source": [
        "print(f\"Summary...\")\n",
        "fitter_service.summary(Nbest=5)"
      ],
      "execution_count": null,
      "outputs": []
    },
    {
      "cell_type": "code",
      "metadata": {
        "id": "V77Ge6KH2mqr"
      },
      "source": [
        "fitter_service.get_best()"
      ],
      "execution_count": null,
      "outputs": []
    },
    {
      "cell_type": "markdown",
      "metadata": {
        "id": "CQMgvLayRhos"
      },
      "source": [
        "La distribution de Cauchy est souvent utilisée en statistique comme exemple canonique d'une distribution «pathologique» puisque tant sa valeur attendue que sa variance ne sont pas définies. La distribution de Cauchy n'a pas de moments finis d'ordre supérieur ou égal à un; seuls les moments absolus fractionnaires existent. La distribution de Cauchy n'a pas de fonction génératrice de moment."
      ]
    },
    {
      "cell_type": "markdown",
      "metadata": {
        "id": "GlZUXwcC2mqr"
      },
      "source": [
        "# 4. Ecrire un programme java pour simuler le centre d’appels d’appels (générer les arrivées, placer les clients à la bonne position dans la file, router les clients vers les agents en utilisant la politique de routage d´efini par manager, gérer le staffing des agents avant le début de la simulation)\n"
      ]
    },
    {
      "cell_type": "markdown",
      "metadata": {
        "id": "SUZ3eqMRIrx9"
      },
      "source": [
        "Voir code Java"
      ]
    },
    {
      "cell_type": "markdown",
      "metadata": {
        "id": "QkzMNEZg2mqr"
      },
      "source": [
        "# 5. Comparer les mesures de performances votre simulateur avec les mesures de performances obtenues avec les données (par exemple le temps d’attente moyen des clients, le niveau de service, le taux d’occupation des agents)"
      ]
    },
    {
      "cell_type": "code",
      "metadata": {
        "id": "Dlq7egU7AlCW"
      },
      "source": [
        ""
      ],
      "execution_count": null,
      "outputs": []
    }
  ]
}